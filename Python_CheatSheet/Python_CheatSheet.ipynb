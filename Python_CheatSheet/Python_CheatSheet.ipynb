{
 "cells": [
  {
   "cell_type": "markdown",
   "metadata": {},
   "source": [
    "## Python Cheat Sheet: <a class=\"anchor\" id=\"toc\"></a>\n",
    "* [1. Expressions & Variables](#one)\n",
    "* [2. Strings & Printing](#two)\n",
    "* [3. User Input](#three)\n",
    "* [4. Conditional Tests (Comparions)](#four)\n",
    "* [5. Lists](#five)\n",
    "* [6. Modules](#six)\n",
    "* [7. If-statements](#seven)\n",
    "* [8. Loops](#eight)\n",
    "* [9. Functions](#nine)\n",
    "* [10. Error Handling](#ten)\n",
    "* [11. Numpy](#eleven)\n",
    "* [12. Matplotlib/pyplot](#twelve)\n",
    "* [13. Pandas](#thirteen)\n",
    "* [14. scikit-image](#fourteen)\n",
    "* [15. Paths and Globbing](#fifteen)"
   ]
  },
  {
   "cell_type": "markdown",
   "metadata": {
    "collapsed": true,
    "pycharm": {
     "is_executing": true
    }
   },
   "source": [
    "<div class=\"alert alert-block alert-success anchor\", id=\"one\"> \n",
    "\n",
    "### 1. Expressions and Variables\n",
    "    \n",
    "Python evaluates expressions. The results can be stored in variables, which can be reused. Spaces around operators are optional!\n",
    "    \n",
    "[Go back to overview](#toc)    \n",
    "</div>\n",
    "\n",
    "\n",
    "\n",
    "<div class=\"alert alert-block alert-info\">\n",
    "    \n",
    "#### Simple mathematical expressions\n",
    "    \n",
    "</div>\n",
    "\n"
   ]
  },
  {
   "cell_type": "code",
   "execution_count": null,
   "metadata": {
    "pycharm": {
     "name": "#%%\n"
    }
   },
   "outputs": [],
   "source": [
    "1+1          # evaluates to: 2\n",
    "# Text after ‘#’ is a comment (ignored by Python)"
   ]
  },
  {
   "cell_type": "code",
   "execution_count": null,
   "metadata": {},
   "outputs": [],
   "source": [
    "1+2*3        # 7"
   ]
  },
  {
   "cell_type": "code",
   "execution_count": null,
   "metadata": {},
   "outputs": [],
   "source": [
    "(1+2)*3      # 9"
   ]
  },
  {
   "cell_type": "code",
   "execution_count": null,
   "metadata": {},
   "outputs": [],
   "source": [
    "5**2         # 25 (power)"
   ]
  },
  {
   "cell_type": "markdown",
   "metadata": {},
   "source": [
    "<div class=\"alert alert-block alert-info\">\n",
    "    \n",
    "#### Division\n",
    "    \n",
    "</div>"
   ]
  },
  {
   "cell_type": "code",
   "execution_count": null,
   "metadata": {},
   "outputs": [],
   "source": [
    "5/2          # 2.5"
   ]
  },
  {
   "cell_type": "code",
   "execution_count": null,
   "metadata": {},
   "outputs": [],
   "source": [
    "5//2         # 2 (integer division)"
   ]
  },
  {
   "cell_type": "code",
   "execution_count": null,
   "metadata": {},
   "outputs": [],
   "source": [
    "5%2          # 1 (modulo, remainder)"
   ]
  },
  {
   "cell_type": "markdown",
   "metadata": {},
   "source": [
    "<div class=\"alert alert-block alert-info\">\n",
    "    \n",
    "#### Variables\n",
    "    \n",
    "</div>"
   ]
  },
  {
   "cell_type": "code",
   "execution_count": null,
   "metadata": {},
   "outputs": [],
   "source": [
    "x = 2        # Assignment: x is now 2\n",
    "print(x)"
   ]
  },
  {
   "cell_type": "code",
   "execution_count": null,
   "metadata": {},
   "outputs": [],
   "source": [
    "hans = 1+x   # hans is now 3\n",
    "print(hans)"
   ]
  },
  {
   "cell_type": "code",
   "execution_count": null,
   "metadata": {},
   "outputs": [],
   "source": [
    "z = x+hans   # z is now 5\n",
    "print(z)"
   ]
  },
  {
   "cell_type": "markdown",
   "metadata": {},
   "source": [
    "<div class=\"alert alert-block alert-success  anchor\", id=\"two\">\n",
    "    \n",
    "### 2. Strings and Printing\n",
    "    \n",
    "Strings are sequences of characters; a representation of text. Printing refers to the output of text from the program.\n",
    "\n",
    "[Go back to overview](#toc)\n",
    "</div>\n",
    "\n",
    "<div class=\"alert alert-block alert-info\">\n",
    "    \n",
    "#### Hello world\n",
    "    \n",
    "</div>\n",
    "\n"
   ]
  },
  {
   "cell_type": "code",
   "execution_count": null,
   "metadata": {},
   "outputs": [],
   "source": [
    "print('Hello world!')\n",
    "print(\"Hello world!\")\n",
    "# Note: Only straight single ( ' ) or double ( \" ) quotes can be used (not mixed)!\n",
    "# Backticks and accents ( ´ or ` ) will not work!"
   ]
  },
  {
   "cell_type": "markdown",
   "metadata": {},
   "source": [
    "<div class=\"alert alert-block alert-info\">\n",
    "    \n",
    "#### Hello world with variables\n",
    "    \n",
    "</div>\n"
   ]
  },
  {
   "cell_type": "code",
   "execution_count": null,
   "metadata": {},
   "outputs": [],
   "source": [
    "variable = 'Hello world!'\n",
    "print(variable)"
   ]
  },
  {
   "cell_type": "markdown",
   "metadata": {},
   "source": [
    "<div class=\"alert alert-block alert-info\">\n",
    "    \n",
    "#### f-strings\n",
    "    \n",
    "</div>\n"
   ]
  },
  {
   "cell_type": "code",
   "execution_count": null,
   "metadata": {},
   "outputs": [],
   "source": [
    "first = 'Albert'\n",
    "last = 'Einstein'\n",
    "sentence = f'I like {first} {last}.'\n",
    "print(sentence) # I like Albert Einstein.\n",
    "print(f'pi: {3.14159:.2f}') # format pi: 3.14"
   ]
  },
  {
   "cell_type": "markdown",
   "metadata": {},
   "source": [
    "<div class=\"alert alert-block alert-success anchor\", id=\"three\">\n",
    "    \n",
    "### 3. User Input\n",
    "    \n",
    "Programs can prompt (ask) the user to enter a value. The value is always stored as a string (i.e., text) and you may need to convert it.\n",
    "\n",
    "[Go back to overview](#toc)\n",
    "</div>\n",
    "\n",
    "<div class=\"alert alert-block alert-info\">\n",
    "    \n",
    "#### Prompting for a value\n",
    "    \n",
    "</div>\n",
    "\n"
   ]
  },
  {
   "cell_type": "code",
   "execution_count": null,
   "metadata": {},
   "outputs": [],
   "source": [
    "name = input(\"What's your name? \")\n",
    "# Note: Careful use of \" and ' allows the printing ' in a string!\n",
    "print(f'Hello {name}')"
   ]
  },
  {
   "cell_type": "markdown",
   "metadata": {},
   "source": [
    "<div class=\"alert alert-block alert-info\">\n",
    "    \n",
    "#### Prompting for a numerical value\n",
    "    \n",
    "</div>\n"
   ]
  },
  {
   "cell_type": "code",
   "execution_count": null,
   "metadata": {},
   "outputs": [],
   "source": [
    "age = input(\"How old are you? \")\n",
    "age = int(age) # convert to integer number\n",
    "pi = input(\"What's the value of pi? \")\n",
    "pi = float(pi) # convert to a decimal number"
   ]
  },
  {
   "cell_type": "markdown",
   "metadata": {},
   "source": [
    "<div class=\"alert alert-block alert-success anchor\", id=\"four\">\n",
    "    \n",
    "### 4. Conditional Tests (Comparisons)\n",
    "    \n",
    "Conditional tests evaluate to whether a statement is True or False.\n",
    "    \n",
    "[Go back to overview](#toc)\n",
    "</div>\n",
    "\n",
    "<div class=\"alert alert-block alert-info\">\n",
    "    \n",
    "#### Conditional tests\n",
    "    \n",
    "</div>\n",
    "\n"
   ]
  },
  {
   "cell_type": "code",
   "execution_count": null,
   "metadata": {},
   "outputs": [],
   "source": [
    "1 < 2        # True"
   ]
  },
  {
   "cell_type": "code",
   "execution_count": null,
   "metadata": {},
   "outputs": [],
   "source": [
    "1+1 >= 2     # True "
   ]
  },
  {
   "cell_type": "code",
   "execution_count": null,
   "metadata": {},
   "outputs": [],
   "source": [
    "1 < 2 < 3    # True (chaining)"
   ]
  },
  {
   "cell_type": "code",
   "execution_count": null,
   "metadata": {},
   "outputs": [],
   "source": [
    "1 == 1       # True (1 equals 1)\n",
    "#Note: Double equal signs (==) have to be used for equality testing!"
   ]
  },
  {
   "cell_type": "code",
   "execution_count": null,
   "metadata": {},
   "outputs": [],
   "source": [
    "1 != 2       # True: 1 is not equal 2"
   ]
  },
  {
   "cell_type": "markdown",
   "metadata": {},
   "source": [
    "<div class=\"alert alert-block alert-info\">\n",
    "    \n",
    "#### Boolean expressions\n",
    "    \n",
    "</div>"
   ]
  },
  {
   "cell_type": "code",
   "execution_count": null,
   "metadata": {},
   "outputs": [],
   "source": [
    "x = 7\n",
    "x < 10 or x > 15         # True"
   ]
  },
  {
   "cell_type": "code",
   "execution_count": null,
   "metadata": {},
   "outputs": [],
   "source": [
    "x < 10 and x > 7         # False"
   ]
  },
  {
   "cell_type": "code",
   "execution_count": null,
   "metadata": {},
   "outputs": [],
   "source": [
    "x < 10 and not x > 7     # True"
   ]
  },
  {
   "cell_type": "code",
   "execution_count": null,
   "metadata": {},
   "outputs": [],
   "source": [
    "x = 2          # Assignment: x is now 2\n",
    "hans = 1 + 1   # hans is now 2\n",
    "z = x + hans   # z is now 4"
   ]
  },
  {
   "cell_type": "markdown",
   "metadata": {},
   "source": [
    "<div class=\"alert alert-block alert-success anchor\", id=\"five\">\n",
    "    \n",
    "### 5. Lists\n",
    "    \n",
    "Lists are a container for data. They contain multiple items in a particular order.\n",
    "    \n",
    "[Go back to overview](#toc)\n",
    "</div>\n",
    "\n",
    "<div class=\"alert alert-block alert-info\">\n",
    "    \n",
    "#### Creating a list\n",
    "    \n",
    "</div>\n",
    "\n"
   ]
  },
  {
   "cell_type": "code",
   "execution_count": null,
   "metadata": {},
   "outputs": [],
   "source": [
    "numbers = [1, 2, 3, 4, 5]\n",
    "names = ['Alice', 'Bob', \"Hans\"]\n",
    "empty_list = []"
   ]
  },
  {
   "cell_type": "markdown",
   "metadata": {},
   "source": [
    "<div class=\"alert alert-block alert-info\">\n",
    "    \n",
    "#### Get items from a list (indexing)\n",
    "    \n",
    "</div>\n"
   ]
  },
  {
   "cell_type": "code",
   "execution_count": null,
   "metadata": {},
   "outputs": [],
   "source": [
    "print(names[0])    # Alice\n",
    "print(names[2])    # Hans\n",
    "print(names[-1])   # Hans ([-1] -> last item)\n",
    "names[0] = 'Al'    # ['Al', 'Bob', 'Hans']"
   ]
  },
  {
   "cell_type": "markdown",
   "metadata": {},
   "source": [
    "<div class=\"alert alert-block alert-info\">\n",
    "    \n",
    "#### Adding items to a list\n",
    "    \n",
    "</div>\n"
   ]
  },
  {
   "cell_type": "code",
   "execution_count": null,
   "metadata": {},
   "outputs": [],
   "source": [
    "numbers.append(42)    # [1,2,3,4,5,42]\n",
    "more_names = ['Joe', 'Eve']\n",
    "names.extend(more_names) \n",
    "        # ['Al', 'Bob', 'Hans', 'Joe', 'Eve']\n",
    "[1,2] + [3,4]         # [1,2,3,4]"
   ]
  },
  {
   "cell_type": "markdown",
   "metadata": {},
   "source": [
    "<div class=\"alert alert-block alert-info\">\n",
    "    \n",
    "#### Slicing a list (getting a range from a list)\n",
    "    \n",
    "</div>\n"
   ]
  },
  {
   "cell_type": "code",
   "execution_count": null,
   "metadata": {},
   "outputs": [],
   "source": [
    "names[0:2]     # ['Alice', 'Bob']\n",
    "               # (exclusive index 2; no \"hans\"!)\n",
    "numbers[:]     # [1,2,3,4,5,42]\n",
    "numbers[:2]    # [1,2]\n",
    "numbers[:-3]   # [1, 2, 3] (skip the last 3)\n",
    "numbers[4:]    # [5,42]\n",
    "numbers[0:5:2] # [1,3,5] (step: 2)\n",
    "numbers[::-1]  # [42,5,4,3,2,1] (step: -1)"
   ]
  },
  {
   "cell_type": "code",
   "execution_count": null,
   "metadata": {},
   "outputs": [],
   "source": [
    "numbers[:-3]\n"
   ]
  },
  {
   "cell_type": "markdown",
   "metadata": {},
   "source": [
    "<div class=\"alert alert-block alert-info\">\n",
    "    \n",
    "#### List comprehensions (to create lists)\n",
    "    \n",
    "</div>\n"
   ]
  },
  {
   "cell_type": "code",
   "execution_count": null,
   "metadata": {},
   "outputs": [],
   "source": [
    "even_numbers = [2*x for x in range(10)]\n",
    "odd_numbers = [2*x+1 for x in range(10)]\n",
    "div_by_3 = [x for x in range(100) if x%3==0]"
   ]
  },
  {
   "cell_type": "markdown",
   "metadata": {},
   "source": [
    "<div class=\"alert alert-block alert-info\">\n",
    "    \n",
    "#### Conditional tests with lists\n",
    "    \n",
    "</div>\n"
   ]
  },
  {
   "cell_type": "code",
   "execution_count": null,
   "metadata": {},
   "outputs": [],
   "source": [
    "2 in numbers                # True\n",
    "17 in numbers               # False\n",
    "'Charlie' not in names      # True"
   ]
  },
  {
   "cell_type": "markdown",
   "metadata": {},
   "source": [
    "<div class=\"alert alert-block alert-info\">\n",
    "    \n",
    "#### Removing items from lists\n",
    "    \n",
    "</div>\n"
   ]
  },
  {
   "cell_type": "code",
   "execution_count": null,
   "metadata": {},
   "outputs": [],
   "source": [
    "numbers = [1, 2, 3, 4, 5, 42]\n",
    "numbers.remove(42)       # now: [1, 2, 3, 4, 5]\n",
    "del numbers[3:5]         # now: [1, 2, 3]"
   ]
  },
  {
   "cell_type": "markdown",
   "metadata": {},
   "source": [
    "<div class=\"alert alert-block alert-info\">\n",
    "    \n",
    "#### Copying lists\n",
    "    \n",
    "</div>\n"
   ]
  },
  {
   "cell_type": "code",
   "execution_count": null,
   "metadata": {},
   "outputs": [],
   "source": [
    "x = [1,2,3]\n",
    "y = x        # y refers to the same list as x\n",
    "y[0] = 10    # modify y\n",
    "print(x)     # [10,2,3] – x was modified, too!\n",
    "z = x[:]     # z is a copy of x\n",
    "z[0] = 5     # only z is modified, not x"
   ]
  },
  {
   "cell_type": "markdown",
   "metadata": {},
   "source": [
    "<div class=\"alert alert-block alert-info\">\n",
    "    \n",
    "#### Length of a list\n",
    "    \n",
    "</div>\n",
    "\n"
   ]
  },
  {
   "cell_type": "code",
   "execution_count": null,
   "metadata": {},
   "outputs": [],
   "source": [
    "x = [0,1,2,3,4]\n",
    "len(x)       # 5"
   ]
  },
  {
   "cell_type": "markdown",
   "metadata": {},
   "source": [
    "<div class=\"alert alert-block alert-success anchor\", id=\"six\">\n",
    "    \n",
    "### 6. Modules\n",
    "    \n",
    "Python comes with an extensive standard library of useful functions grouped into modules. Refer to the online documentations!\n",
    "\n",
    "[Go back to overview](#toc)\n",
    "</div>\n",
    "\n",
    "<div class=\"alert alert-block alert-info\">\n",
    "    \n",
    "#### Importing a module\n",
    "    \n",
    "</div>\n",
    "\n"
   ]
  },
  {
   "cell_type": "code",
   "execution_count": null,
   "metadata": {},
   "outputs": [],
   "source": [
    "import math # now we can use math functions\n",
    "print(math.exp(1)) # 2.718281828459045\n",
    "print(math.cos(0)) # 1.0"
   ]
  },
  {
   "cell_type": "markdown",
   "metadata": {},
   "source": [
    "<div class=\"alert alert-block alert-info\">\n",
    "    \n",
    "#### Importing functions from a module\n",
    "    \n",
    "</div>"
   ]
  },
  {
   "cell_type": "code",
   "execution_count": null,
   "metadata": {},
   "outputs": [],
   "source": [
    "from math import exp as e\n",
    "from math import cos, pi\n",
    "print(e(0))    # 1.0 (no math. needed)\n",
    "print(cos(pi)) # -1.0"
   ]
  },
  {
   "cell_type": "markdown",
   "metadata": {},
   "source": [
    "<div class=\"alert alert-block alert-success anchor\", id=\"seven\">\n",
    "    \n",
    "### 7. If-statements\n",
    "    \n",
    "If-statements allow conditional execution of your code\n",
    "\n",
    "[Go back to overview](#toc)\n",
    "</div>\n",
    "\n",
    "<div class=\"alert alert-block alert-info\">\n",
    "    \n",
    "#### Simple tests\n",
    "    \n",
    "</div>\n",
    "\n"
   ]
  },
  {
   "cell_type": "code",
   "execution_count": null,
   "metadata": {},
   "outputs": [],
   "source": [
    "age = int(input(\"How old are you? \"))\n",
    "if age >= 18:\n",
    "    print('You can vote!')"
   ]
  },
  {
   "cell_type": "markdown",
   "metadata": {},
   "source": [
    "<div class=\"alert alert-block alert-info\">\n",
    "    \n",
    "#### if-elif-else case distinctions\n",
    "    \n",
    "</div>"
   ]
  },
  {
   "cell_type": "code",
   "execution_count": null,
   "metadata": {},
   "outputs": [],
   "source": [
    "age = int(input(\"How old are you? \"))\n",
    "if age < 4:     # do not forget the colon (:)!\n",
    "    ticket_price = 0\n",
    "elif age < 18:  # you can chain multiple elif\n",
    "    ticket_price = 10\n",
    "else:\n",
    "    ticket_price = 15"
   ]
  },
  {
   "cell_type": "markdown",
   "metadata": {},
   "source": [
    "<div class=\"alert alert-block alert-success anchor\", id=\"eight\">\n",
    "    \n",
    "### 8. Loops\n",
    "    \n",
    "Loops allow repeating certain lines of your code a certain number of times or while a condition is fulfilled.\n",
    "\n",
    "[Go back to overview](#toc)\n",
    "</div>\n",
    "\n",
    "<div class=\"alert alert-block alert-info\">\n",
    "    \n",
    "#### For-loop\n",
    "    \n",
    "</div>\n",
    "\n"
   ]
  },
  {
   "cell_type": "code",
   "execution_count": null,
   "metadata": {},
   "outputs": [],
   "source": [
    "my_list = []\n",
    "for number in range(3):\n",
    "    my_list.append(number)\n",
    "print(my_list)     # [0,1,2]"
   ]
  },
  {
   "cell_type": "markdown",
   "metadata": {},
   "source": [
    "\n",
    "<div class=\"alert alert-block alert-info\">\n",
    "    \n",
    "#### For-loop: continue\n",
    "    \n",
    "</div>"
   ]
  },
  {
   "cell_type": "code",
   "execution_count": null,
   "metadata": {},
   "outputs": [],
   "source": [
    "my_list = []\n",
    "for number in range(5):\n",
    "    if number == 3:\n",
    "        continue   # skips current for-iteration\n",
    "    my_list.append(number)\n",
    "print(my_list)     # [0,1,2,4]"
   ]
  },
  {
   "cell_type": "markdown",
   "metadata": {},
   "source": [
    "<div class=\"alert alert-block alert-info\">\n",
    "    \n",
    "#### Iterating over elements of a list\n",
    "    \n",
    "</div>"
   ]
  },
  {
   "cell_type": "code",
   "execution_count": null,
   "metadata": {},
   "outputs": [],
   "source": [
    "my_dogs = ['Rex', 'Snoopy', 'Rufus']\n",
    "for dog in my_dogs:\n",
    "    print(f'{dog} is the best dog ever!')\n",
    "\n",
    "for number, dog in enumerate(my_dogs):\n",
    "    print(f'{dog} is my dog no. {number}')"
   ]
  },
  {
   "cell_type": "markdown",
   "metadata": {},
   "source": [
    "<div class=\"alert alert-block alert-info\">\n",
    "    \n",
    "#### Progressbars\n",
    "    \n",
    "</div>"
   ]
  },
  {
   "cell_type": "code",
   "execution_count": null,
   "metadata": {},
   "outputs": [],
   "source": [
    "import time\n",
    "from tqdm import tqdm # creates progressbar\n",
    "for dog in tqdm(my_dogs):\n",
    "    print(f'{dog} is the best dog ever!')\n",
    "    time.sleep(1.5)\n",
    "# 66%|████████   | 2/3 [00:30<01:00, 1.00it/s]\n",
    "# shows remaining time & time/iteration"
   ]
  },
  {
   "cell_type": "markdown",
   "metadata": {},
   "source": [
    "<div class=\"alert alert-block alert-info\">\n",
    "    \n",
    "#### While-loop\n",
    "    \n",
    "</div>"
   ]
  },
  {
   "cell_type": "code",
   "execution_count": null,
   "metadata": {},
   "outputs": [],
   "source": [
    "my_list = []\n",
    "x = 1\n",
    "while x < 10:\n",
    "    x *= 2    # same as: x = x * 2\n",
    "    my_list.append(x)\n",
    "print(f'my_list: {my_list} x: {x}')\n",
    "    # my_list: [2, 4, 8, 16] x: 16\n"
   ]
  },
  {
   "cell_type": "markdown",
   "metadata": {},
   "source": [
    "<div class=\"alert alert-block alert-success anchor\", id=\"nine\">\n",
    "    \n",
    "### 9. Functions\n",
    "    \n",
    "You can reuse code by defining functions (similar to print(…))\n",
    "\n",
    "[Go back to overview](#toc)\n",
    "</div>\n",
    "\n",
    "<div class=\"alert alert-block alert-info\">\n",
    "    \n",
    "#### Defining and invoking (calling) functions\n",
    "    \n",
    "</div>"
   ]
  },
  {
   "cell_type": "code",
   "execution_count": null,
   "metadata": {},
   "outputs": [],
   "source": [
    "def say_hi():\n",
    "    print('Hi!')\n",
    "say_hi() # prints: Hi!\n",
    "say_hi() # prints again: Hi!"
   ]
  },
  {
   "cell_type": "markdown",
   "metadata": {},
   "source": [
    "<div class=\"alert alert-block alert-info\">\n",
    "    \n",
    "#### Defining functions with parameters\n",
    "    \n",
    "</div>"
   ]
  },
  {
   "cell_type": "code",
   "execution_count": null,
   "metadata": {},
   "outputs": [],
   "source": [
    "def greet(name):\n",
    "    print(f'Hi {name}!')\n",
    "greet('Alice')        # prints: Hi Alice!\n",
    "greet(name='Hans')    # prints: Hi Hans!\n",
    "# naming parameters is optional, but recommended! "
   ]
  },
  {
   "cell_type": "markdown",
   "metadata": {},
   "source": [
    "<div class=\"alert alert-block alert-info\">\n",
    "    \n",
    "#### Multiple parameters\n",
    "    \n",
    "</div>"
   ]
  },
  {
   "cell_type": "code",
   "execution_count": null,
   "metadata": {},
   "outputs": [],
   "source": [
    "def print_sum(x,y):\n",
    "    print(x+y)\n",
    "print_sum(x=1, y=2)      # prints: 3"
   ]
  },
  {
   "cell_type": "markdown",
   "metadata": {},
   "source": [
    "<div class=\"alert alert-block alert-info\">\n",
    "    \n",
    "#### Default parameters\n",
    "    \n",
    "</div>"
   ]
  },
  {
   "cell_type": "code",
   "execution_count": null,
   "metadata": {},
   "outputs": [],
   "source": [
    "def print_big_sum(x,y,z=1):\n",
    "    print(x+y+z)\n",
    "print_big_sum(x=1, y=2)        # prints: 4\n",
    "print_big_sum(x=1, y=2, z=0)   # prints: 3"
   ]
  },
  {
   "cell_type": "markdown",
   "metadata": {},
   "source": [
    "<div class=\"alert alert-block alert-info\">\n",
    "    \n",
    "#### Return values\n",
    "    \n",
    "</div>"
   ]
  },
  {
   "cell_type": "code",
   "execution_count": null,
   "metadata": {},
   "outputs": [],
   "source": [
    "def subtract(x, y=1):\n",
    "    return(x - y)\n",
    "a = subtract(x=3)         # returns 2\n",
    "b = subtract(x=3, y=3)    # returns 0         \n",
    "print(f'a: {a}, b: {b}')  # a: 2, b: 0"
   ]
  },
  {
   "cell_type": "markdown",
   "metadata": {},
   "source": [
    "<div class=\"alert alert-block alert-success anchor\", id=\"ten\">\n",
    "    \n",
    "### 10. Error Handling\n",
    "    \n",
    "Some conditions (e.g. user input) might bring your program into a state, where it cannot continue as normal (a crash).\n",
    "\n",
    "[Go back to overview](#toc)\n",
    "</div>\n",
    "\n",
    "<div class=\"alert alert-block alert-info\">\n",
    "    \n",
    "#### Catching errors\n",
    "    \n",
    "</div>\n",
    "\n"
   ]
  },
  {
   "cell_type": "code",
   "execution_count": null,
   "metadata": {},
   "outputs": [],
   "source": [
    "age = input(\"What's your age? \")\n",
    "try:      # Place below what could go wrong\n",
    "    age = int(age)\n",
    "except:\n",
    "    print('You did not enter a number!')\n",
    "else:\n",
    "    print(f\"You're {age} years young!\")\n"
   ]
  },
  {
   "cell_type": "markdown",
   "metadata": {},
   "source": [
    "<div class=\"alert alert-block alert-success anchor\", id=\"eleven\">\n",
    "    \n",
    "### 11. Numpy\n",
    "    \n",
    "A module to perform numerical operations.\n",
    "    \n",
    "[Go back to overview](#toc)\n",
    "</div>\n",
    "\n",
    "<div class=\"alert alert-block alert-info\">\n",
    "    \n",
    "#### Basic example\n",
    "    \n",
    "</div>\n",
    "\n"
   ]
  },
  {
   "cell_type": "code",
   "execution_count": null,
   "metadata": {},
   "outputs": [],
   "source": [
    "import numpy as np\n",
    "x = np.arange(start=1, stop=2.5, step=0.5)\n",
    "print(x)          # [1.,  1.5, 2. ]\n",
    "print(np.exp(x))  # [2.71… 4.48… 7.38… ]"
   ]
  },
  {
   "cell_type": "code",
   "execution_count": null,
   "metadata": {},
   "outputs": [],
   "source": [
    "y = np.zeros_like(x) # same shape and dtype as x\n",
    "z = np.zeros(shape=(10,10), dtype=np.uint8)\n",
    "converted = x.astype(np.uint8) # convert to float"
   ]
  },
  {
   "cell_type": "markdown",
   "metadata": {},
   "source": [
    "<div class=\"alert alert-block alert-info\">\n",
    "    \n",
    "#### Comparisons & Masking\n",
    "    \n",
    "</div>"
   ]
  },
  {
   "cell_type": "code",
   "execution_count": null,
   "metadata": {},
   "outputs": [],
   "source": [
    "x = np.array([1, 2, 3, 4])\n",
    "print(x)\n",
    "y = x > 2   # array([False, False,  True,  True])\n",
    "print(y)\n",
    "x[y] = 0    # array([1, 2, 0, 0])\n",
    "print(x)\n",
    "z = x[y]    # array([0, 0])\n",
    "print(z)"
   ]
  },
  {
   "cell_type": "markdown",
   "metadata": {},
   "source": [
    "<div class=\"alert alert-block alert-success anchor\", id=\"twelve\">\n",
    "    \n",
    "### 12. Matplotlib/ pyplot\n",
    "    \n",
    "Visualizing (plotting) data graphically\n",
    "    \n",
    "[Go back to overview](#toc)\n",
    "</div>\n",
    "\n",
    "<div class=\"alert alert-block alert-info\">\n",
    "    \n",
    "#### Lineplots\n",
    "    \n",
    "</div>\n",
    "\n"
   ]
  },
  {
   "cell_type": "code",
   "execution_count": null,
   "metadata": {},
   "outputs": [],
   "source": [
    "import matplotlib.pyplot as plt\n",
    "import numpy as np\n",
    "\n",
    "x = np.arange(start=0, stop=10, step=0.1)\n",
    "y = np.exp(x)\n",
    "\n",
    "plt.figure()\n",
    "plt.plot(x, y)\n",
    "plt.show()"
   ]
  },
  {
   "cell_type": "markdown",
   "metadata": {},
   "source": [
    "\n",
    "<div class=\"alert alert-block alert-info\">\n",
    "    \n",
    "#### 2D images\n",
    "    \n",
    "</div>\n",
    "\n"
   ]
  },
  {
   "cell_type": "code",
   "execution_count": null,
   "metadata": {},
   "outputs": [],
   "source": [
    "path_to_image_file = 'data/dapi.tif'\n",
    "image = plt.imread(path_to_image_file)\n",
    "\n",
    "print(f'image has the type: {type(image)}')\n",
    "print(f'image has the shape: {image.shape} (xyc; rgba)')\n",
    "\n",
    "plt.figure()\n",
    "plt.imshow(image)\n",
    "plt.show()"
   ]
  },
  {
   "cell_type": "markdown",
   "metadata": {},
   "source": [
    "\n",
    "<div class=\"alert alert-block alert-info\">\n",
    "    \n",
    "#### Histograms\n",
    "    \n",
    "</div>\n",
    "\n"
   ]
  },
  {
   "cell_type": "code",
   "execution_count": null,
   "metadata": {},
   "outputs": [],
   "source": [
    "plt.figure()\n",
    "plt.hist(image.flatten()) # convert 2D -> 1D\n",
    "plt.show()\n"
   ]
  },
  {
   "cell_type": "markdown",
   "metadata": {},
   "source": [
    "<div class=\"alert alert-block alert-info\">\n",
    "    \n",
    "#### Customizing/labeling axes\n",
    "    \n",
    "</div>"
   ]
  },
  {
   "cell_type": "code",
   "execution_count": null,
   "metadata": {},
   "outputs": [],
   "source": [
    "plt.figure(figsize=(4,4)) # size in inches\n",
    "plt.hist(image.flatten()) # convert 2D -> 1D\n",
    "plt.xlabel('Intensity')   # label on x-axis\n",
    "plt.ylabel('Counts')      # label on y-axis\n",
    "plt.title('DAPI – Histogram') # title\n",
    "plt.xlim([0, 150])        # x-axis range\n",
    "plt.ylim([0, 1000000])    # y-axis range\n",
    "plt.show()\n"
   ]
  },
  {
   "cell_type": "markdown",
   "metadata": {},
   "source": [
    "<div class=\"alert alert-block alert-info\">\n",
    "    \n",
    "#### Grid subplots\n",
    "    \n",
    "</div>"
   ]
  },
  {
   "cell_type": "code",
   "execution_count": null,
   "metadata": {},
   "outputs": [],
   "source": [
    "number_rows = 1\n",
    "number_cols = 3\n",
    "\n",
    "plt.figure(figsize=(7,3))\n",
    "plt.subplot(number_rows, number_cols, 1)\n",
    "plt.hist(image.flatten()) # left plot \n",
    "\n",
    "plt.subplot(number_rows, number_cols, 2)\n",
    "plt.imshow(image)         # middle plot\n",
    "\n",
    "plt.subplot(133) # omitting commas also works\n",
    "plt.plot(x,y)    # right plot\n",
    "\n",
    "plt.suptitle('Big Title') # title for all plots\n",
    "plt.tight_layout() # adjust padding of subplots\n",
    "plt.show()"
   ]
  },
  {
   "cell_type": "markdown",
   "metadata": {},
   "source": [
    "<div class=\"alert alert-block alert-info\">\n",
    "    \n",
    "#### Mosaic subplot\n",
    "    \n",
    "</div>"
   ]
  },
  {
   "cell_type": "code",
   "execution_count": null,
   "metadata": {},
   "outputs": [],
   "source": [
    "axes = plt.figure().subplot_mosaic(\n",
    "    \"\"\"\n",
    "    aaa\n",
    "    aaa\n",
    "    b.c\n",
    "    \"\"\"\n",
    ") # letters are axes, colons are empty spaces\n",
    "\n",
    "plt.sca(axes['a']) # set current axis to 'a'\n",
    "plt.plot(x,y)\n",
    "\n",
    "plt.sca(axes['b']) # set current axis to 'b'\n",
    "plt.imshow(image)\n",
    "\n",
    "plt.sca(axes['c']) # set current axis to 'c'\n",
    "plt.hist(image.flatten())\n",
    "\n",
    "plt.tight_layout()\n",
    "plt.show()\n"
   ]
  },
  {
   "cell_type": "markdown",
   "metadata": {},
   "source": [
    "<div class=\"alert alert-block alert-info\">\n",
    "    \n",
    "#### Saving/exporting figures \n",
    "    \n",
    "</div>"
   ]
  },
  {
   "cell_type": "code",
   "execution_count": null,
   "metadata": {},
   "outputs": [],
   "source": [
    "plt.savefig('data/fig.png') # saves latest figure \n",
    "plt.savefig('data/fig.pdf') # vector graphic"
   ]
  },
  {
   "cell_type": "markdown",
   "metadata": {},
   "source": [
    "<div class=\"alert alert-block alert-info\">\n",
    "    \n",
    "#### Additional cheatsheets\n",
    "    \n",
    "</div>\n",
    "\n",
    "https://matplotlib.org/cheatsheets/"
   ]
  },
  {
   "cell_type": "markdown",
   "metadata": {},
   "source": [
    "<div class=\"alert alert-block alert-success anchor\", id=\"thirteen\">\n",
    "    \n",
    "### 13. Pandas\n",
    "    \n",
    "Data science/analysis platform for tabular data and time series. \n",
    "    \n",
    "[Go back to overview](#toc)\n",
    "</div>\n",
    "\n",
    "<div class=\"alert alert-block alert-info\">\n",
    "    \n",
    "#### Simple example\n",
    "    \n",
    "</div>\n",
    "\n",
    "\n",
    "\n"
   ]
  },
  {
   "cell_type": "code",
   "execution_count": null,
   "metadata": {},
   "outputs": [],
   "source": [
    "import pandas as pd\n",
    "df = pd.DataFrame(\n",
    "    {\"area\" : [1, 4],\n",
    "     \"intensity\" : [5.2, 8.1]},\n",
    "    index = [\"cell_1\", \"cell_2\"])\n",
    "print(df)"
   ]
  },
  {
   "cell_type": "markdown",
   "metadata": {},
   "source": [
    "<div class=\"alert alert-block alert-info\">\n",
    "    \n",
    "#### Accessing data\n",
    "    \n",
    "</div>\n"
   ]
  },
  {
   "cell_type": "code",
   "execution_count": null,
   "metadata": {},
   "outputs": [],
   "source": [
    "area = df['area']\n",
    "print(area)"
   ]
  },
  {
   "cell_type": "markdown",
   "metadata": {},
   "source": [
    "<div class=\"alert alert-block alert-info\">\n",
    "    \n",
    "#### Appending to DataFrame\n",
    "    \n",
    "</div>\n"
   ]
  },
  {
   "cell_type": "code",
   "execution_count": null,
   "metadata": {},
   "outputs": [],
   "source": [
    "df = df.append(\n",
    "    pd.DataFrame({'area':5, 'intensity':4},\n",
    "                 index=['cell_3'])\n",
    ")\n",
    "print(df)"
   ]
  },
  {
   "cell_type": "markdown",
   "metadata": {},
   "source": [
    "<div class=\"alert alert-block alert-info\">\n",
    "    \n",
    "#### Writing Dataframe to disk\n",
    "    \n",
    "</div>\n"
   ]
  },
  {
   "cell_type": "code",
   "execution_count": null,
   "metadata": {},
   "outputs": [],
   "source": [
    "df.to_pickle('data/df.pkl') # recommended\n",
    "df.to_csv('data/df.csv')\n",
    "df.to_excel('data/df.xlsx') # needs module openpyxl"
   ]
  },
  {
   "cell_type": "markdown",
   "metadata": {},
   "source": [
    "<div class=\"alert alert-block alert-info\">\n",
    "    \n",
    "#### Loading Dataframe from disk\n",
    "    \n",
    "</div>\n"
   ]
  },
  {
   "cell_type": "code",
   "execution_count": null,
   "metadata": {},
   "outputs": [],
   "source": [
    "df2 = pd.read_pickle('data/df.pkl')\n",
    "df2 = pd.read_csv('data/df.csv')\n",
    "df2 = pd.read_excel('data/df.xlsx')"
   ]
  },
  {
   "cell_type": "markdown",
   "metadata": {},
   "source": [
    "<div class=\"alert alert-block alert-info\">\n",
    "    \n",
    "#### Additional Cheatsheets\n",
    "    \n",
    "</div>\n",
    "\n",
    "https://pandas.pydata.org/Pandas_Cheat_Sheet.pdf"
   ]
  },
  {
   "cell_type": "markdown",
   "metadata": {},
   "source": [
    "<div class=\"alert alert-block alert-success anchor\", id=\"fourteen\">\n",
    "    \n",
    "### 14. scikit-image\n",
    "    \n",
    "Collection of algorithms and functions for image processing.\n",
    "    \n",
    "[Go back to overview](#toc)\n",
    "</div>\n",
    "\n",
    "<div class=\"alert alert-block alert-info\">\n",
    "    \n",
    "#### Reading images\n",
    "    \n",
    "</div>\n",
    "\n",
    "\n",
    "\n"
   ]
  },
  {
   "cell_type": "code",
   "execution_count": null,
   "metadata": {},
   "outputs": [],
   "source": [
    "from skimage import io\n",
    "path_to_image_file = 'data/dapi.tif'\n",
    "image = io.imread(path_to_image_file)"
   ]
  },
  {
   "cell_type": "markdown",
   "metadata": {},
   "source": [
    "<div class=\"alert alert-block alert-info\">\n",
    "    \n",
    "#### Writing images\n",
    "    \n",
    "</div>"
   ]
  },
  {
   "cell_type": "code",
   "execution_count": null,
   "metadata": {},
   "outputs": [],
   "source": [
    "filename_out = 'data/dapi_out.tif'\n",
    "io.imsave(fname=filename_out, arr=image)"
   ]
  },
  {
   "cell_type": "markdown",
   "metadata": {},
   "source": [
    "<div class=\"alert alert-block alert-info\">\n",
    "    \n",
    "#### Examples of image filters\n",
    "    \n",
    "</div>"
   ]
  },
  {
   "cell_type": "code",
   "execution_count": null,
   "metadata": {},
   "outputs": [],
   "source": [
    "from skimage.filters import median, try_all_threshold\n",
    "filtered = median(image) # run median filter\n",
    "try_all_threshold(filtered) # try automatic thresholds"
   ]
  },
  {
   "cell_type": "markdown",
   "metadata": {},
   "source": [
    "<div class=\"alert alert-block alert-info\">\n",
    "    \n",
    "#### Toy Pipeline\n",
    "    \n",
    "</div>"
   ]
  },
  {
   "cell_type": "code",
   "execution_count": null,
   "metadata": {},
   "outputs": [],
   "source": [
    "from scipy import ndimage as ndi\n",
    "from skimage.filters import threshold_mean\n",
    "from skimage.measure import label\n",
    "from skimage.feature import peak_local_max\n",
    "from skimage.segmentation import watershed\n",
    "from skimage.morphology import binary_closing, binary_opening\n",
    "from skimage.data import coins\n",
    "from skimage.restoration import rolling_ball\n",
    "\n",
    "image = coins()\n",
    "background = rolling_ball(image, radius=50)\n",
    "image_bg_corrected = image - background\n",
    "\n",
    "threshold = threshold_mean(image_bg_corrected)\n",
    "binary_image = image_bg_corrected > threshold\n",
    "binary_image_closed = binary_closing(binary_image)\n",
    "binary_image_opened = binary_opening(binary_image_closed)\n",
    "\n",
    "distance = ndi.distance_transform_edt(binary_image_opened)\n",
    "seeds = peak_local_max(distance, min_distance=5, indices=False)\n",
    "labels = watershed(-distance, label(seeds), mask=binary_image)"
   ]
  },
  {
   "cell_type": "code",
   "execution_count": null,
   "metadata": {},
   "outputs": [],
   "source": [
    "from skimage.color import label2rgb\n",
    "import matplotlib.pyplot as plt\n",
    "image_label_overlay = label2rgb(labels, image=image, bg_label=0)\n",
    "\n",
    "plt.figure(figsize=(10,10))\n",
    "plt.subplot(321)\n",
    "plt.imshow(image)\n",
    "plt.title('image')\n",
    "plt.axis('off')\n",
    "\n",
    "plt.subplot(322)\n",
    "plt.imshow(image_bg_corrected)\n",
    "plt.title('background-subtracted image')\n",
    "plt.axis('off')\n",
    "\n",
    "plt.subplot(323)\n",
    "plt.imshow(binary_image)\n",
    "plt.title('binary image')\n",
    "plt.axis('off')\n",
    "\n",
    "plt.subplot(324)\n",
    "plt.imshow(binary_image_opened)\n",
    "plt.title('opened binary image')\n",
    "plt.axis('off')\n",
    "\n",
    "plt.subplot(325)\n",
    "plt.imshow(distance)\n",
    "plt.title('distancemap')\n",
    "plt.axis('off')\n",
    "\n",
    "plt.subplot(326)\n",
    "plt.imshow(image_label_overlay)\n",
    "plt.title('labels after watershed')\n",
    "plt.axis('off')\n",
    "plt.show()"
   ]
  },
  {
   "cell_type": "code",
   "execution_count": null,
   "metadata": {
    "pycharm": {
     "is_executing": true
    }
   },
   "outputs": [],
   "source": [
    "from skimage.measure import regionprops_table\n",
    "import pandas as pd\n",
    "props = regionprops_table(labels,\n",
    "                          image,\n",
    "                          properties=['label',\n",
    "                                      'area'\n",
    "                                     ])\n",
    "df = pd.DataFrame(props)\n",
    "print(df)"
   ]
  },
  {
   "cell_type": "markdown",
   "metadata": {},
   "source": [
    "<div class=\"alert alert-block alert-info\">\n",
    "    \n",
    "#### Further references\n",
    "    \n",
    "</div>\n",
    "\n",
    "https://scikit-image.org/docs/stable/user_guide.html\n",
    "\n",
    "https://scikit-image.org/docs/stable/index.html\n"
   ]
  },
  {
   "cell_type": "markdown",
   "metadata": {},
   "source": [
    "<div class=\"alert alert-block alert-success anchor\", id=\"fifteen\">\n",
    "    \n",
    "### 15. Paths and Globbing\n",
    "    \n",
    "Paths and path-handling are common sources of breaking code. Use dedicated modules from os.path to avoid these.\n",
    "    \n",
    "[Go back to overview](#toc)\n",
    "</div>\n",
    "\n",
    "<div class=\"alert alert-block alert-info\">\n",
    "    \n",
    "#### Joining Paths\n",
    "    \n",
    "</div>\n",
    "\n",
    "\n",
    "\n"
   ]
  },
  {
   "cell_type": "code",
   "execution_count": null,
   "metadata": {},
   "outputs": [],
   "source": [
    "import os\n",
    "path_to_directory = 'data'\n",
    "path_to_subdirectory = 'more_data'\n",
    "path_to_file = 'dapi.tif'\n",
    "joined_path = os.path.join(path_to_directory,\n",
    "                           path_to_subdirectory,\n",
    "                           path_to_file)\n",
    "print(joined_path)"
   ]
  },
  {
   "cell_type": "markdown",
   "metadata": {},
   "source": [
    "<div class=\"alert alert-block alert-info\">\n",
    "    \n",
    "#### Checking if file exists\n",
    "    \n",
    "</div>\n",
    "\n"
   ]
  },
  {
   "cell_type": "code",
   "execution_count": null,
   "metadata": {},
   "outputs": [],
   "source": [
    "os.path.exists(path_to_file) "
   ]
  },
  {
   "cell_type": "markdown",
   "metadata": {},
   "source": [
    "<div class=\"alert alert-block alert-info\">\n",
    "    \n",
    "#### Extracting information from path\n",
    "    \n",
    "</div>\n",
    "\n"
   ]
  },
  {
   "cell_type": "code",
   "execution_count": null,
   "metadata": {},
   "outputs": [],
   "source": [
    "os.path.basename(joined_path)"
   ]
  },
  {
   "cell_type": "code",
   "execution_count": null,
   "metadata": {},
   "outputs": [],
   "source": [
    "os.path.dirname(joined_path)"
   ]
  },
  {
   "cell_type": "code",
   "execution_count": null,
   "metadata": {},
   "outputs": [],
   "source": [
    "os.path.splitext(path_to_file)"
   ]
  },
  {
   "cell_type": "markdown",
   "metadata": {},
   "source": [
    "<div class=\"alert alert-block alert-info\">\n",
    "    \n",
    "#### Finding files with glob\n",
    "    \n",
    "</div>\n",
    "\n"
   ]
  },
  {
   "cell_type": "code",
   "execution_count": null,
   "metadata": {},
   "outputs": [],
   "source": [
    "from glob import glob\n",
    "path_to_folder = os.path.join('data','glob')\n",
    "glob(os.path.join(path_to_folder, '*'))"
   ]
  },
  {
   "cell_type": "code",
   "execution_count": null,
   "metadata": {},
   "outputs": [],
   "source": [
    "from glob import glob\n",
    "path_to_folder = os.path.join('data','glob')\n",
    "glob(os.path.join(path_to_folder, '1*'))"
   ]
  },
  {
   "cell_type": "code",
   "execution_count": null,
   "metadata": {},
   "outputs": [],
   "source": [
    "glob(os.path.join(path_to_folder, '*1*.tif'))"
   ]
  }
 ],
 "metadata": {
  "kernelspec": {
   "display_name": "Python 3 (ipykernel)",
   "language": "python",
   "name": "python3"
  },
  "language_info": {
   "codemirror_mode": {
    "name": "ipython",
    "version": 3
   },
   "file_extension": ".py",
   "mimetype": "text/x-python",
   "name": "python",
   "nbconvert_exporter": "python",
   "pygments_lexer": "ipython3",
   "version": "3.7.13"
  }
 },
 "nbformat": 4,
 "nbformat_minor": 1
}