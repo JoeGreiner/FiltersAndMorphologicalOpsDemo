{
 "cells": [
  {
   "cell_type": "markdown",
   "metadata": {
    "slideshow": {
     "slide_type": "slide"
    }
   },
   "source": [
    "# Interactive Break: Image Visualisation / Colormaps / LookUp Tables"
   ]
  },
  {
   "cell_type": "markdown",
   "metadata": {
    "slideshow": {
     "slide_type": "slide"
    }
   },
   "source": [
    "<div class=\"alert alert-block alert-success\">\n",
    "\n",
    "<b>Outline: </b>\n",
    "<ul>\n",
    "    <li>Colormaps/Lookup Tables assign data/numbers properties, such as color or transparencies.</li>\n",
    "    <li>The brightness/color of an displayed image can be chosen and therefore is not an indicator of image quality.</li>\n",
    "    <li>Data histograms are helpful tools during image acquisition and processing, <b><u>use them!</u></b></li>\n",
    "    <li>Be aware of color blindness, please avoid mixing red/green e.g. in publications. Good alternatives are green/magenta or cyan/red.\n",
    "</ul>\n",
    "</div> "
   ]
  },
  {
   "cell_type": "markdown",
   "metadata": {},
   "source": [
    "\n",
    "<div class=\"alert alert-block alert-info\">\n",
    "    \n",
    "<b>Theory</b>\n",
    "\n",
    "![LUT](images/LUT_slide.png \"LUT\")\n",
    "\n",
    "</div>"
   ]
  },
  {
   "cell_type": "markdown",
   "metadata": {
    "slideshow": {
     "slide_type": "slide"
    }
   },
   "source": [
    "<div class=\"alert alert-block alert-warning\">\n",
    "<b>Task:</b> <br>\n",
    "    \n",
    "* Explore the following widget.\n",
    "* For each of the images, which LUT would you choose? What could be criterea for chosing a LUT?\n",
    "* For each of the images, which minimum/maximum value would you choose? What could be criterea for chosing these?\n",
    "    \n",
    "</div>"
   ]
  },
  {
   "cell_type": "code",
   "execution_count": null,
   "metadata": {
    "scrolled": false,
    "slideshow": {
     "slide_type": "slide"
    }
   },
   "outputs": [],
   "source": [
    "%matplotlib notebook\n",
    "from LUTWidget import LUT_2D_Widget\n",
    "myWidget = LUT_2D_Widget()"
   ]
  },
  {
   "cell_type": "markdown",
   "metadata": {
    "slideshow": {
     "slide_type": "slide"
    }
   },
   "source": [
    "\n",
    "<div class=\"alert alert-block alert-info\">\n",
    "    \n",
    "<b>How to specify colormaps/a LUT and the minimum/maximum LUT value with python/<code>matplotlib</code>?</b>\n",
    "    \n",
    "* <code>imshow(numpy_array, vmin=LUT_minimum_value, vmax=LUT_maximum_value, cmap=colormap_name_as_string)</code>\n",
    "\n",
    "https://matplotlib.org/stable/tutorials/introductory/images.html\n",
    "    \n",
    "https://matplotlib.org/stable/tutorials/colors/colormaps.html\n",
    "</div>"
   ]
  },
  {
   "cell_type": "code",
   "execution_count": null,
   "metadata": {
    "slideshow": {
     "slide_type": "slide"
    }
   },
   "outputs": [],
   "source": [
    "from skimage import data\n",
    "import matplotlib.pyplot as plt\n",
    "\n",
    "image = data.cat()[:, :, 0] # only select red (first) channel of RGB image\n",
    "minimum_LUT_value = 0\n",
    "maximum_LUT_value = 255\n",
    "selected_colormap = 'gray'\n",
    "\n",
    "plt.figure(figsize=(6,5)) # create a figure, with width and height given in inches\n",
    "plt.imshow(image, vmin=minimum_LUT_value, vmax=maximum_LUT_value, cmap=selected_colormap) # display an image\n",
    "plt.colorbar() # add a colorbar\n",
    "plt.show()"
   ]
  },
  {
   "cell_type": "markdown",
   "metadata": {},
   "source": [
    "\n",
    "<div class=\"alert alert-block alert-info\">\n",
    "    \n",
    "<b>Note: </b>\n",
    "\n",
    "These parameters are optional, for a quick look at the data they may do not need to be specified.\n",
    "</div>"
   ]
  },
  {
   "cell_type": "code",
   "execution_count": null,
   "metadata": {},
   "outputs": [],
   "source": [
    "plt.figure()\n",
    "plt.imshow(image)\n",
    "plt.show()"
   ]
  },
  {
   "cell_type": "markdown",
   "metadata": {},
   "source": [
    "<div class=\"alert alert-block alert-info\">\n",
    "    \n",
    "<b>Further Reading/ References: </b>\n",
    "\n",
    "https://bioimagebook.github.io/chapters/1-concepts/4-colors/colors.html\n",
    "</div>"
   ]
  }
 ],
 "metadata": {
  "kernelspec": {
   "display_name": "Python 3 (ipykernel)",
   "language": "python",
   "name": "python3"
  },
  "language_info": {
   "codemirror_mode": {
    "name": "ipython",
    "version": 3
   },
   "file_extension": ".py",
   "mimetype": "text/x-python",
   "name": "python",
   "nbconvert_exporter": "python",
   "pygments_lexer": "ipython3",
   "version": "3.7.12"
  }
 },
 "nbformat": 4,
 "nbformat_minor": 1
}