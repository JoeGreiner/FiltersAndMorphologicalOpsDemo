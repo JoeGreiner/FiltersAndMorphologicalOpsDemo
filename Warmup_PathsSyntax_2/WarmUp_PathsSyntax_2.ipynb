{
 "cells": [
  {
   "cell_type": "markdown",
   "metadata": {
    "collapsed": true
   },
   "source": [
    "<div class=\"alert alert-block alert-success\">\n",
    "\n",
    "<b>Outline: </b>\n",
    "<ul>\n",
    "    <li>The tiniest error can break a program.</li>\n",
    "    <li>Intendation is important in Python, it controls execution flow.</li>\n",
    "    <li>Be sure to work from the right conda environment.</li>\n",
    "    <li>Reading error messages is a skill that gets easier with experience.</li>\n",
    "    <li><b>Use Google/StackOverflow/CheatSheets/Books</b>.</li>\n",
    "</ul>\n",
    "</div> "
   ]
  },
  {
   "cell_type": "markdown",
   "metadata": {
    "pycharm": {
     "name": "#%%\n"
    }
   },
   "source": [
    "<div class=\"alert alert-block alert-warning\">\n",
    "<b>Task:</b> <br>\n",
    "\n",
    "Fix the following code statements to execute correctly, as indicated in the comments.\n",
    "\n",
    "</div>"
   ]
  },
  {
   "cell_type": "code",
   "execution_count": 1,
   "metadata": {},
   "outputs": [
    {
     "ename": "SyntaxError",
     "evalue": "EOL while scanning string literal (3899671385.py, line 3)",
     "output_type": "error",
     "traceback": [
      "\u001B[0;36m  File \u001B[0;32m\"/var/folders/h3/jm_xwnpd69s0zqr9bhz223680000gp/T/ipykernel_39337/3899671385.py\"\u001B[0;36m, line \u001B[0;32m3\u001B[0m\n\u001B[0;31m    names = ['Alice', 'Bob', 'Hans\"]\u001B[0m\n\u001B[0m                                    ^\u001B[0m\n\u001B[0;31mSyntaxError\u001B[0m\u001B[0;31m:\u001B[0m EOL while scanning string literal\n"
     ]
    }
   ],
   "source": [
    "# contains two errors\n",
    "\n",
    "names = ['Alice', 'Bob', 'Hans\"]\n",
    "print(names[3]) # this should show 'Hans' - what's wrong?"
   ]
  },
  {
   "cell_type": "code",
   "execution_count": null,
   "metadata": {},
   "outputs": [],
   "source": [
    "my_list = [0,4,3,2]\n",
    "another_list = my_list\n",
    "print(f'my_list before modification of another_list {my_list}')\n",
    "another_list[0] = 99\n",
    "print(f'my_list after modification of another_list {my_list}')\n",
    "# why did my_list change when only another_list was modified?\n",
    "# how to fix it? if you need a hint, check the python cheat sheet"
   ]
  },
  {
   "cell_type": "code",
   "execution_count": null,
   "metadata": {},
   "outputs": [],
   "source": [
    "# contains one error\n",
    "\n",
    "user_input_number = input()\n",
    "if user_input_number = 5:\n",
    "    print('5 was entered.')\n",
    "else\n",
    "    print('5 was not entered.')"
   ]
  },
  {
   "cell_type": "code",
   "execution_count": null,
   "metadata": {},
   "outputs": [],
   "source": [
    "# contains two errors\n",
    "\n",
    "def greet(name)\n",
    "    print(f'Hi {name}!')\n",
    "greet(\"Alice')        # prints: Hi Alice!\n",
    "greet(name='Hans')    # prints: Hi Hans!"
   ]
  },
  {
   "cell_type": "code",
   "execution_count": null,
   "metadata": {},
   "outputs": [],
   "source": [
    "# contains two errors (one may not break execution)\n",
    "\n",
    "age = int(input())\n",
    "if age < 4:     # do not forget the colon (:)!\n",
    "ticket_price = 0\n",
    "elif age < 18:  # you can chain multiple elif\n",
    "  ticket_price = 10\n",
    "else:\n",
    "    ticket_price = 15\n",
    "print(ticket_price)"
   ]
  },
  {
   "cell_type": "code",
   "execution_count": null,
   "metadata": {},
   "outputs": [],
   "source": [
    "# contains one error\n",
    "\n",
    "my_list = []\n",
    "for number in 3: # this for loop is meant to execute three times\n",
    "    my_list.append(number)\n",
    "print(my_list)     # should print [0,1,2]"
   ]
  },
  {
   "cell_type": "code",
   "execution_count": null,
   "metadata": {},
   "outputs": [],
   "source": [
    "import numpy as np\n",
    "array_one = np.array([1,4,3])\n",
    "print(f'array_one before modification of another_list {array_one}')\n",
    "array_two = array_one\n",
    "array_two[:] = 0\n",
    "print(f'array_one after modification of another_list {array_one}')\n",
    "# why did array_one change when only array_two was modified?\n",
    "# how to fix it? if you need a hint, check the python cheat sheet"
   ]
  },
  {
   "cell_type": "code",
   "execution_count": null,
   "metadata": {},
   "outputs": [],
   "source": [
    "# contains one error\n",
    "from skimage.io import imread\n",
    "\n",
    "image = imread('data/not_a_cat.jpg')\n",
    "\n",
    "plt.figure()\n",
    "plt.imshow(image)\n",
    "plt.show()"
   ]
  },
  {
   "cell_type": "code",
   "execution_count": null,
   "metadata": {},
   "outputs": [],
   "source": [
    "# contains one error\n",
    "\n",
    "image = imread(r'data\\not_a_cat.jpg')\n",
    "\n",
    "plt.figure()\n",
    "plt.imshow(image)\n",
    "plt.show()"
   ]
  },
  {
   "cell_type": "markdown",
   "metadata": {},
   "source": [
    "<div class=\"alert alert-block alert-warning\">\n",
    "<b>Task:</b> <br>\n",
    "\n",
    "Add logic to the follow code snippets to make a functional rock, paper, scissors game.\n",
    "    \n",
    "</div>"
   ]
  },
  {
   "cell_type": "code",
   "execution_count": 17,
   "metadata": {},
   "outputs": [
    {
     "name": "stdout",
     "output_type": "stream",
     "text": [
      "paper\n",
      "Computer chose: rock.\n",
      "You chose: paper.\n",
      "===========\n",
      "\n",
      "You've won!\n"
     ]
    }
   ],
   "source": [
    "import numpy as np\n",
    "choices = ['rock', 'paper', 'scissors']\n",
    "computer_choice = np.random.choice(choices)\n",
    "\n",
    "your_choice = input().lower() # make all input lowercase\n",
    "\n",
    "print(f'Computer chose: {computer_choice}.')\n",
    "print(f'You chose: {your_choice}.')\n",
    "print('===========\\n')\n",
    "\n",
    "if computer_choice == 'rock' and your_choice == 'paper':\n",
    "    print(\"You've won!\")\n",
    "# implement all other cases! use elif and else cases"
   ]
  },
  {
   "cell_type": "code",
   "execution_count": null,
   "metadata": {},
   "outputs": [],
   "source": [
    "\n",
    "\n"
   ]
  }
 ],
 "metadata": {
  "kernelspec": {
   "display_name": "Python 3 (ipykernel)",
   "language": "python",
   "name": "python3"
  },
  "language_info": {
   "codemirror_mode": {
    "name": "ipython",
    "version": 3
   },
   "file_extension": ".py",
   "mimetype": "text/x-python",
   "name": "python",
   "nbconvert_exporter": "python",
   "pygments_lexer": "ipython3",
   "version": "3.7.13"
  }
 },
 "nbformat": 4,
 "nbformat_minor": 1
}