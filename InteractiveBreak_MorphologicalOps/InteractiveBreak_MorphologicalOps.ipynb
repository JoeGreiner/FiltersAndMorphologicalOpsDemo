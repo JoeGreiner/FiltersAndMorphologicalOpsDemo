{
 "cells": [
  {
   "cell_type": "markdown",
   "metadata": {},
   "source": [
    "# Interactive Break: Binary Morphological Operations\n",
    "\n",
    "<div class=\"alert alert-block alert-success\">\n",
    "\n",
    "<b>Outline: </b>\n",
    "* Morphological operations such as dilation, erosion, opening, and closing are powerful image processing techniques.\n",
    "* Opening and closing are chained dilation and erosion operations.\n",
    "* Morphological operations not only work on binary images, but also on greyscale images.\n",
    "</div> \n",
    "\n"
   ]
  },
  {
   "cell_type": "markdown",
   "metadata": {},
   "source": [
    "<div class=\"alert alert-block alert-info\">\n",
    "    \n",
    "<b>Theory</b>\n",
    "\n",
    "![dilation_erosion](images/dilation_erosion.png \"dilation_erosion\")\n",
    "![opening](images/opening.png \"opening\")\n",
    "![opening](images/closing.png \"opening\")\n",
    "\n",
    "\n",
    "</div>"
   ]
  },
  {
   "cell_type": "markdown",
   "metadata": {},
   "source": [
    "<div class=\"alert alert-block alert-warning\">\n",
    "<b>Task:</b> <br>\n",
    "    \n",
    "Explore in the following applet the binary operations <b>Opening</b> and <b>Closing</b>.\n",
    "\n",
    "</div>"
   ]
  },
  {
   "cell_type": "code",
   "execution_count": null,
   "metadata": {
    "pycharm": {
     "is_executing": true
    }
   },
   "outputs": [],
   "source": [
    "%matplotlib notebook\n",
    "from helpers.morphology import OpenCloseWidget, DilateErodeWidget, Drawer\n",
    "OpenCloseWidget()"
   ]
  },
  {
   "cell_type": "markdown",
   "metadata": {},
   "source": [
    "<div class=\"alert alert-block alert-warning\">\n",
    "<b>Task:</b> <br>\n",
    "    \n",
    "The following Applet adds two very basic morpholgical operations: <b>Dilation</b> and <b>Erosion</b>. Explore their function.\n",
    "\n",
    "How do you have to sequence them to achieve the same function as <b>Opening</b> and <b>Closing</b>?\n",
    "</div>"
   ]
  },
  {
   "cell_type": "code",
   "execution_count": null,
   "metadata": {},
   "outputs": [],
   "source": [
    "DilateErodeWidget()"
   ]
  },
  {
   "cell_type": "markdown",
   "metadata": {},
   "source": [
    "<div class=\"alert alert-block alert-info\">\n",
    "    \n",
    "<b>How to run the morphological operations in python?</b>\n",
    "\n",
    "\n",
    "There are multiple packages that provide that function, for example, <code>scikit-image</code> or  <code>itk</code>.\n",
    "\n",
    "https://scikit-image.org/docs/stable/api/skimage.morphology.html<br>\n",
    "https://itk.org/Doxygen/html/group__ITKBinaryMathematicalMorphology.html<br>\n",
    "    \n",
    "</div>"
   ]
  },
  {
   "cell_type": "code",
   "execution_count": null,
   "metadata": {},
   "outputs": [],
   "source": [
    "from skimage import data\n",
    "from skimage.morphology import binary_dilation, binary_erosion, binary_opening, binary_closing\n",
    "\n",
    "image = data.cat()[:, :, 0] # only select red (first) channel of RGB image\n",
    "lower_threshold_value = 128\n",
    "thresholded_image = image > lower_threshold_value\n",
    "\n",
    "dilated = binary_dilation(thresholded_image)\n",
    "eroded = binary_erosion(thresholded_image)\n",
    "closed = binary_opening(thresholded_image)\n",
    "opened = binary_closing(thresholded_image)"
   ]
  },
  {
   "cell_type": "markdown",
   "metadata": {},
   "source": [
    "<div class=\"alert alert-block alert-warning\">\n",
    "<b>Bonus Task:</b> <br>\n",
    "    \n",
    "Additionally to the four morphological operations, the next application allows you to draw inside the image. Left mouse click will paint, right mouse click will erase at the pointer location.\n",
    "\n",
    "Explore the widgets, try to come up 1–2 examples where the previously introduced operations could be useful. Try sequences to close/open bigger distances/gaps.\n",
    "</div>"
   ]
  },
  {
   "cell_type": "code",
   "execution_count": null,
   "metadata": {},
   "outputs": [],
   "source": [
    "drawer = Drawer()"
   ]
  },
  {
   "cell_type": "code",
   "execution_count": null,
   "metadata": {},
   "outputs": [],
   "source": []
  }
 ],
 "metadata": {
  "kernelspec": {
   "display_name": "Python 3 (ipykernel)",
   "language": "python",
   "name": "python3"
  },
  "language_info": {
   "codemirror_mode": {
    "name": "ipython",
    "version": 3
   },
   "file_extension": ".py",
   "mimetype": "text/x-python",
   "name": "python",
   "nbconvert_exporter": "python",
   "pygments_lexer": "ipython3",
   "version": "3.7.13"
  }
 },
 "nbformat": 4,
 "nbformat_minor": 2
}