{
 "cells": [
  {
   "cell_type": "markdown",
   "metadata": {},
   "source": [
    "# Week Project - Final Touches\n",
    "\n",
    "### Analysis of time series, Matplotlib, multi-figure PDF\n",
    "\n",
    "<div class=\"alert alert-block alert-success\">\n",
    "\n",
    "<b>Outline: </b>\n",
    "* <code>Numpy</code> allows for the numerical analysis of multidimensional data, such as a TYX (time, y-coordinate, x-coordinate) time series.\n",
    "    * The week project has TYX dimensions (or CTYX, where C is channels/colors, and there is exactly one color). \n",
    "    \n",
    "* <code>Matplotlib</code> is powerful tool for data visualization.\n",
    "    \n",
    "* <code>Matplotlib</code> supports the creation of PDF files with many figures in it, useful to organize figures and analysis results.\n",
    "    \n",
    "</div> "
   ]
  },
  {
   "cell_type": "markdown",
   "metadata": {},
   "source": [
    "<div class=\"alert alert-block alert-warning\">\n",
    "<b>Tasks</b><br>\n",
    "\n",
    "* Use <code>oiffiles</code> <code>imread()</code> function to read the week project image with the path <code>'data/week_project.oib'</code>\n",
    "</div>"
   ]
  },
  {
   "cell_type": "code",
   "execution_count": null,
   "metadata": {
    "pycharm": {
     "name": "#%%\n"
    }
   },
   "outputs": [],
   "source": [
    "# TODO: import oiffile\n",
    "image = # TODO: read the image with the path 'data/week_project.oib'"
   ]
  },
  {
   "cell_type": "code",
   "execution_count": null,
   "metadata": {},
   "outputs": [],
   "source": [
    "# the last frame is not properly read. therefore, the following code skips the last index\n",
    "import matplotlib.pyplot as plt\n",
    "\n",
    "# show the last time index\n",
    "plt.figure()\n",
    "plt.imshow(image[0, -1, :, :])\n",
    "plt.show()\n",
    "\n",
    "# drop the last time index\n",
    "image = image[0, :-1, :, :]\n",
    "\n",
    "# drop the first (singleton) dimension\n",
    "image = image[0, :, :, :]\n",
    "print(f'image has now the shape: {image.shape} (time, y, x)')"
   ]
  },
  {
   "cell_type": "markdown",
   "metadata": {},
   "source": [
    "<div class=\"alert alert-block alert-warning\">\n",
    "<b>Tasks</b><br>\n",
    "\n",
    "* Load the cellpose predictions from the path <code>'data/week_project_segmentation.tif'</code> using <code>skimage.io</code> <code>imread()</code> function.\n",
    "</div>"
   ]
  },
  {
   "cell_type": "code",
   "execution_count": null,
   "metadata": {
    "pycharm": {
     "name": "#%%\n"
    }
   },
   "outputs": [],
   "source": [
    "# TODO: import skimage package\n",
    "segmentation =  # TODO: load 'data/week_project_segmentation.tif' with imread from skimage.io"
   ]
  },
  {
   "cell_type": "code",
   "execution_count": null,
   "metadata": {},
   "outputs": [],
   "source": [
    "from skimage.io import imread\n",
    "segmentation = imread('data/week_project_segmentation.tif')"
   ]
  },
  {
   "cell_type": "code",
   "execution_count": null,
   "metadata": {
    "scrolled": false
   },
   "outputs": [],
   "source": [
    "# This will plot the segmentation\n",
    "%matplotlib notebook\n",
    "import matplotlib.pyplot as plt\n",
    "\n",
    "plt.figure(figsize=(4,4))\n",
    "plt.subplot(121)\n",
    "plt.imshow(image[50,:,:])\n",
    "plt.subplot(122)\n",
    "plt.imshow(segmentation)\n",
    "plt.show()"
   ]
  },
  {
   "cell_type": "markdown",
   "metadata": {},
   "source": [
    "\n",
    "<div class=\"alert alert-block alert-info\">\n",
    "    \n",
    "<b>Theory:</b> \n",
    "    \n",
    "<code>Numpy</code>'s <code>np.unique(array)</code> returns the unique values within an array:\n",
    "\n",
    "```Python\n",
    "\n",
    "    import numpy as np\n",
    "    my_array = np.array((1,1,1,1,2,3))\n",
    "    print(np.unique(my_array)) # prints [1 2 3]\n",
    "\n",
    "```\n",
    "    \n",
    "</div>"
   ]
  },
  {
   "cell_type": "markdown",
   "metadata": {},
   "source": [
    "<div class=\"alert alert-block alert-warning\">\n",
    "<b>Tasks</b><br>\n",
    "\n",
    "* Print the unique values in the array segmentation using <code>numpy</code>'s unique.\n",
    "    \n",
    "</div>"
   ]
  },
  {
   "cell_type": "code",
   "execution_count": null,
   "metadata": {},
   "outputs": [],
   "source": [
    "# TODO: print the unique values in segmentation using np.unique"
   ]
  },
  {
   "cell_type": "markdown",
   "metadata": {},
   "source": [
    "\n",
    "<div class=\"alert alert-block alert-info\">\n",
    "\n",
    "<b>Theory:</b> \n",
    "    \n",
    "<code>Numpy</code>'s <code>np.mean(array)</code> returns the average value of an array:\n",
    "\n",
    "```Python\n",
    "\n",
    "    import numpy as np\n",
    "    my_array = np.array((1,2,3))\n",
    "    print(np.mean(my_array)) # prints 2\n",
    "\n",
    "```\n",
    "    \n",
    "<code>Numpy</code>'s <code>np.mean(array)</code> can also be masked, e.g. with a segmentation:\n",
    "\n",
    "```Python\n",
    "\n",
    "    import numpy as np\n",
    "    my_array = np.array((1,2,3))\n",
    "    my_mask = np.array((True, True, False))\n",
    "    print(np.mean(my_array[my_mask])) # prints 1.5\n",
    "    print(np.mean(my_array[my_mask == True])) # equivalent to above\n",
    "\n",
    "```\n",
    "</div>"
   ]
  },
  {
   "cell_type": "markdown",
   "metadata": {},
   "source": [
    "<div class=\"alert alert-block alert-warning\">\n",
    "<b>Tasks</b><br>\n",
    "\n",
    "* Inspect and understand the following code block.\n",
    "    \n",
    "</div>"
   ]
  },
  {
   "cell_type": "code",
   "execution_count": null,
   "metadata": {},
   "outputs": [],
   "source": [
    "print(f'the image has the dimensions: {image.shape}')\n",
    "dim_t, dim_y, dim_x = image.shape\n",
    "\n",
    "import numpy as np\n",
    "\n",
    "selected_label = 3\n",
    "\n",
    "time_index = np.zeros(shape=(dim_t))\n",
    "for time_index in range(dim_t):\n",
    "    np.mean(image[time_index, segmentation == selected_label])"
   ]
  },
  {
   "cell_type": "markdown",
   "metadata": {},
   "source": [
    "<div class=\"alert alert-block alert-warning\">\n",
    "<b>Tasks</b><br>\n",
    "\n",
    "* Plot the array <code>time_series</code>. Using <code>figure()</code> <code>plot()</code> and <code>show()</code>.\n",
    "    \n",
    "</div>"
   ]
  },
  {
   "cell_type": "code",
   "execution_count": null,
   "metadata": {},
   "outputs": [],
   "source": [
    "# TODO: import matplotlib (if not done already)\n",
    "# TODO: create plt.figure()\n",
    "# TODO: call plt.plot(array)\n",
    "# TODO: call plt.show()"
   ]
  },
  {
   "cell_type": "markdown",
   "metadata": {},
   "source": [
    "<div class=\"alert alert-block alert-warning\">\n",
    "<b>Tasks:</b><br>\n",
    "\n",
    "* Combined with the PDFPages, we can now automate the analysis and report to a PDF.\n",
    "* Inspect and understand the code.\n",
    "* Add x- and y- labels to the subplots.\n",
    "* Add titles to the the subplots.\n",
    "* Disable axis for the image plots using the function <code>plt.axis('none')</code>\n",
    "</div>"
   ]
  },
  {
   "cell_type": "code",
   "execution_count": null,
   "metadata": {},
   "outputs": [],
   "source": [
    "from matplotlib.backends.backend_pdf import PdfPages\n",
    "pdf_file = PdfPages('my_analysis.pdf')\n",
    "\n",
    "for label in np.unique(segmentation):\n",
    "    if label == 0: # skip background image\n",
    "        continue\n",
    "    \n",
    "    time_series = np.zeros(shape=(dim_t)) # create empty array with the size dim_t (one per time step)\n",
    "    for t in range(dim_t):\n",
    "        time_series[t] = np.mean(image[t, segmentation == label])\n",
    "        \n",
    "        \n",
    "    axes = plt.figure().subplot_mosaic(\n",
    "        \"\"\"\n",
    "        ab\n",
    "        cc\n",
    "        \"\"\"\n",
    "    ) # letters are axes, colons are empty spaces\n",
    "\n",
    "    plt.sca(axes['a']) # set current axis to 'a'\n",
    "    plt.imshow(image[50,:,:])\n",
    "\n",
    "    plt.sca(axes['b']) # set current axis to 'b'\n",
    "    plt.imshow(segmentation == label)\n",
    "\n",
    "    plt.sca(axes['c']) # set current axis to 'c'\n",
    "    plt.plot(time_series)\n",
    "    plt.ylim([0, 4000]) # set the ylim of the plot\n",
    "    \n",
    "    plt.tight_layout()\n",
    "    plt.show()\n",
    "    pdf_file.savefig()\n",
    "\n",
    "pdf_file.close()\n",
    "\n"
   ]
  },
  {
   "cell_type": "markdown",
   "metadata": {},
   "source": [
    "<div class=\"alert alert-block alert-warning\">\n",
    "<b>Bonus Task:</b><br>\n",
    "\n",
    "* Redo the analysis without y limit scaling in the lineplot. Save it to a different filename.\n",
    "* Compare the new PDF with the old one. What's the impact of normalizing the axis on the readers understanding? \n",
    "</div>"
   ]
  },
  {
   "cell_type": "code",
   "execution_count": null,
   "metadata": {},
   "outputs": [],
   "source": []
  }
 ],
 "metadata": {
  "kernelspec": {
   "display_name": "Python 3 (ipykernel)",
   "language": "python",
   "name": "python3"
  },
  "language_info": {
   "codemirror_mode": {
    "name": "ipython",
    "version": 3
   },
   "file_extension": ".py",
   "mimetype": "text/x-python",
   "name": "python",
   "nbconvert_exporter": "python",
   "pygments_lexer": "ipython3",
   "version": "3.7.13"
  }
 },
 "nbformat": 4,
 "nbformat_minor": 1
}