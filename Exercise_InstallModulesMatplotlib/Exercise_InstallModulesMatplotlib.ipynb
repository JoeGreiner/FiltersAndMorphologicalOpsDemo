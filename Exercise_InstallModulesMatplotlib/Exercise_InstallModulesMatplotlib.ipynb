{
 "cells": [
  {
   "cell_type": "markdown",
   "metadata": {},
   "source": [
    "# Exercise: Conda, Module Installation, Matplotlib"
   ]
  },
  {
   "cell_type": "markdown",
   "metadata": {
    "collapsed": true
   },
   "source": [
    "<div class=\"alert alert-block alert-success\">\n",
    "\n",
    "<b>Outline: </b>\n",
    "\n",
    "* Packages/Modules can be installed e.g. via <code>pip</code> or <code>conda</code> in your terminal.\n",
    "\n",
    "    * <code>conda install [packagename]</code>, e.g. <code>conda install h5py</code>\n",
    "    * <code>pip install [packagename]</code>, e.g. <code> pip install h5py </code>\n",
    "\n",
    "* Sometimes you want to specify a channel where you get the module from, e.g. conda-forge\n",
    "\n",
    "    * <code>conda install [packagename] -c [channel]</code>, e.g. <code>conda install h5py -c conda-forge</code>\n",
    "    * (pip does not have different channels)\n",
    "    \n",
    "\n",
    "* <b>If you use conda, remember to be in the right channel!</b>\n",
    "\n",
    "\n",
    "\n",
    "* Packages can be uninstalled with:\n",
    "\n",
    "    * <code>pip uninstall [packagename]</code>\n",
    "    * <code>conda uninstall [packagename]</code>\n",
    "\n",
    "    \n",
    "</div> "
   ]
  },
  {
   "cell_type": "markdown",
   "metadata": {},
   "source": [
    "<div class=\"alert alert-block alert-warning\">\n",
    "<b>Task:</b> <br>\n",
    "    \n",
    "* Execute the following code blocks and read the error messages.\n",
    "</div>"
   ]
  },
  {
   "cell_type": "code",
   "execution_count": null,
   "metadata": {
    "pycharm": {
     "name": "#%%\n"
    }
   },
   "outputs": [],
   "source": [
    "import os\n",
    "path_to_image_file = 'data/week_project.oib'\n",
    "does_the_path_exist = os.path.exists(path_to_image_file)\n",
    "print(f'{path_to_image_file} exists: {does_the_path_exist}')"
   ]
  },
  {
   "cell_type": "code",
   "execution_count": null,
   "metadata": {},
   "outputs": [],
   "source": [
    "# However, we can not read it with skimage.io, as it is not in the supported file formats\n",
    "import skimage.io\n",
    "\n",
    "image = skimage.io.imread(path_to_image_file)"
   ]
  },
  {
   "cell_type": "code",
   "execution_count": null,
   "metadata": {},
   "outputs": [],
   "source": [
    "import oiffile # (probably) currently not installed in your environment\n",
    "               # (probably) will throw an error message"
   ]
  },
  {
   "cell_type": "markdown",
   "metadata": {},
   "source": [
    "<div class=\"alert alert-block alert-warning\">\n",
    "<b>Task:</b> <br>\n",
    "    \n",
    "* We will install the package oiffile, which handles the FileIO for Olympus file formats:\n",
    "    * https://pypi.org/project/oiffile/\n",
    "* To do so, go to your terminal, and make sure the conda environment is correct.\n",
    "* Activate/deactivate conda envionments is done using:\n",
    "    * <code> conda activate [environmentname]</code> e.g. <code>conda activate LectureImageProcessing2022</code>\n",
    "    * <code> conda deactivate </code>\n",
    "* Listing available conda environements on the computer is done with:\n",
    "    * <code> conda env list </code> (env stands for environment)\n",
    "* Then, type <code>pip install oiffile</code> to install oiffile in the current Python environment\n",
    "* Now you can use <code> oiffile </code>, (probably) even without restarting your current notebook.\n",
    "</div>"
   ]
  },
  {
   "cell_type": "code",
   "execution_count": null,
   "metadata": {},
   "outputs": [],
   "source": [
    "import oiffile\n",
    "image = oiffile.imread(path_to_image_file)"
   ]
  },
  {
   "cell_type": "code",
   "execution_count": null,
   "metadata": {},
   "outputs": [],
   "source": [
    "print(f'The image is of {type(image)}')\n",
    "print(f'The shape of the image is {image.shape} (channels, time, y, x)')\n",
    "print(f'The dtype of the image is {image.dtype}')"
   ]
  },
  {
   "cell_type": "markdown",
   "metadata": {},
   "source": [
    "<div class=\"alert alert-block alert-warning\">\n",
    "<b>Task:</b> <br>\n",
    "    \n",
    "* Plot the image using matplotlibs <code>imshow</code> at the time t=50.\n",
    "* At the title \"t=50\" to the image\n",
    "* Use matplotlibs <code>savefig</code> to save the created figure. Open the image outside of the notebook.\n",
    "* Hint: use the [Python Cheat Sheet](https://mybinder.org/v2/gh/JoeGreiner/Binder_ImageAnalysisSandbox/master?urlpath=git-pull%3Frepo%3Dhttps%253A%252F%252Fgithub.com%252FJoeGreiner%252FFiltersAndMorphologicalOpsDemo%26urlpath%3Dtree%252FFiltersAndMorphologicalOpsDemo%252FPython_CheatSheet/Python_CheatSheet.ipynb%26branch%3Dmain). Optionally, use the locally installed version, where edits can be preserved.\n",
    "</div>"
   ]
  },
  {
   "cell_type": "code",
   "execution_count": 1,
   "metadata": {},
   "outputs": [],
   "source": [
    "%matplotlib notebook\n",
    "# TODO: extract an numpy array that holds a 2D image at t=50\n",
    "\n",
    "\n",
    "# TODO: use matplotlib to plot the previously extracted numpy array"
   ]
  },
  {
   "cell_type": "markdown",
   "metadata": {},
   "source": [
    "<div class=\"alert alert-block alert-warning\">\n",
    "<b>Bonus Task:</b> <br>\n",
    "    \n",
    "* One can use multiple fileformats to save figures (a subset of them is: .pdf, .png, .jpg). Save an image in all formats.\n",
    "* Inspect the results, do you see differences?\n",
    "* What could be advantages/disadvantages for each file format?\n",
    "</div>"
   ]
  }
 ],
 "metadata": {
  "kernelspec": {
   "display_name": "Python 3 (ipykernel)",
   "language": "python",
   "name": "python3"
  },
  "language_info": {
   "codemirror_mode": {
    "name": "ipython",
    "version": 3
   },
   "file_extension": ".py",
   "mimetype": "text/x-python",
   "name": "python",
   "nbconvert_exporter": "python",
   "pygments_lexer": "ipython3",
   "version": "3.7.13"
  }
 },
 "nbformat": 4,
 "nbformat_minor": 1
}
