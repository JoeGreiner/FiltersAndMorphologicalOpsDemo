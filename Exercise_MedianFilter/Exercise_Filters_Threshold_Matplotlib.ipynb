{
 "cells": [
  {
   "cell_type": "markdown",
   "metadata": {},
   "source": [
    "# Exercise: Filters, Thresholds, Matplotlib"
   ]
  },
  {
   "cell_type": "markdown",
   "metadata": {},
   "source": [
    "<div class=\"alert alert-block alert-success\">\n",
    "\n",
    "<b>Outline: </b>\n",
    "* The mean and median filter are example of denoising filters.\n",
    "    * Those filter work on a local neighborhood, called kernel/box size.\n",
    "* The 'right' (/least worst) filter for the job depends on the noise characteristics.\n",
    "* Matplotlib is a very powerful visualisation package for numerical and image data.\n",
    "</div>"
   ]
  },
  {
   "cell_type": "markdown",
   "metadata": {},
   "source": [
    "<div class=\"alert alert-block alert-warning\">\n",
    "\n",
    "<b>Task:</b> <br>\n",
    "* Read in the image with the path <code>'data/BS.tif'</code> using <code>imread</code> from <code>skimage.io</code>\n",
    "    \n",
    "</div>"
   ]
  },
  {
   "cell_type": "code",
   "execution_count": null,
   "metadata": {},
   "outputs": [],
   "source": [
    "# TODO: import function 'imread' from skimage.io\n",
    "\n",
    "image = # TODO: read in image"
   ]
  },
  {
   "cell_type": "markdown",
   "metadata": {},
   "source": [
    "<div class=\"alert alert-block alert-warning\">\n",
    "\n",
    "<b>Task:</b> <br>\n",
    "* Plot the image using <code>imshow</code> from <code>matplotlib.pyplot</code>.\n",
    "    \n",
    "</div>"
   ]
  },
  {
   "cell_type": "code",
   "execution_count": null,
   "metadata": {},
   "outputs": [],
   "source": [
    "%matplotlib notebook\n",
    "\n",
    "# TODO: import matplotlib and plot image"
   ]
  },
  {
   "cell_type": "markdown",
   "metadata": {},
   "source": [
    "\n",
    "<div class=\"alert alert-block alert-info\">\n",
    "    \n",
    "<b>Theory</b>\n",
    "\n",
    "As introduced earlier today, you can run mean/median filters e.g. with itk:\n",
    "    \n",
    "\n",
    "```Python\n",
    "import itk\n",
    "from skimage import data\n",
    "\n",
    "image = data.cat()[:, :, 0] # only select red (first) channel of RGB image\n",
    "mean_filtered = itk.mean_image_filter(image, radius=3)\n",
    "median_filtered = itk.median_image_filter(image, radius=3)\n",
    "```\n",
    "\n",
    "</div>"
   ]
  },
  {
   "cell_type": "markdown",
   "metadata": {},
   "source": [
    "<div class=\"alert alert-block alert-warning\">\n",
    "\n",
    "<b>Task:</b> <br>\n",
    "* Filter the image using median and mean filters. Try different at least the following radii: 2, 5, 10.\n",
    "\n",
    "* Make use of the zoom/rectangle function of matplotlib to compare the images.\n",
    "    \n",
    "</div>"
   ]
  },
  {
   "cell_type": "code",
   "execution_count": null,
   "metadata": {},
   "outputs": [],
   "source": [
    "# TODO: import itk\n",
    "\n",
    "mean_filtered = # TODO: use mean_image_filter from itk\n",
    "median_filtered = # TODO: use median_image filter from itk\n",
    "\n",
    "plt.figure(figsize=(8,4))\n",
    "ax1 = plt.subplot(131) # create a subplot: 1 row, 3 columns, plotting in the first grid index \n",
    "plt.imshow(image)\n",
    "plt.title('Original Image') # set a title\n",
    "\n",
    "ax2 = plt.subplot(132) # create a subplot: 1 row, 3 columns, plotting in the second grid index \n",
    "plt.imshow(median_filtered)\n",
    "ax2.sharex(ax1) # share x axis with ax1\n",
    "ax2.sharey(ax1) # share y axis with ax1\n",
    "plt.title('Median Filtered')\n",
    "\n",
    "ax3 = plt.subplot(133)\n",
    "plt.imshow(mean_filtered)\n",
    "ax3.sharex(ax1)\n",
    "ax3.sharey(ax1)\n",
    "plt.title('Mean Filtered')\n",
    "\n",
    "plt.tight_layout()\n",
    "plt.show()"
   ]
  },
  {
   "cell_type": "markdown",
   "metadata": {},
   "source": [
    "<div class=\"alert alert-block alert-warning\">\n",
    "\n",
    "<b>Task:</b> <br>\n",
    "* Threshold the two upmost bright cells.\n",
    "* Make a matplotlib figure with 3 subplots, showing:\n",
    "    * The original image\n",
    "    * The filtered image\n",
    "    * The thresholded image    \n",
    "</div>"
   ]
  },
  {
   "cell_type": "code",
   "execution_count": 10,
   "metadata": {},
   "outputs": [],
   "source": [
    "# TODO: create threshold (remember the exercise with your initals/array!)\n",
    "\n",
    "# TODO: create figure with 3 subplots: original image, filtered image, thresholded image."
   ]
  },
  {
   "cell_type": "markdown",
   "metadata": {},
   "source": [
    "\n",
    "<div class=\"alert alert-block alert-info\">\n",
    "    \n",
    "<b>Theory</b>\n",
    "\n",
    "Instead of using the grid system to create subplots, once can also use the mosaic system:\n",
    "    \n",
    "\n",
    "```Python\n",
    "from skimage import data\n",
    "import matplotlib.pyplot as plt\n",
    "    \n",
    "image = data.cat()[:, :, 0] # only select red (first) channel of RGB image\n",
    "\n",
    "axes = plt.figure().subplot_mosaic(\n",
    "    \"\"\"\n",
    "    aaa\n",
    "    aaa\n",
    "    b.c\n",
    "    \"\"\"\n",
    ") # letters are axes, colons are empty spaces\n",
    "\n",
    "plt.sca(axes['a']) # set current axis to 'a'\n",
    "plt.plot(image)\n",
    "\n",
    "plt.sca(axes['b']) # set current axis to 'b'\n",
    "plt.imshow(image[:50, :50])\n",
    "\n",
    "plt.sca(axes['c']) # set current axis to 'c'\n",
    "plt.hist(image.flatten())\n",
    "\n",
    "plt.tight_layout()\n",
    "plt.show()\n",
    "\n",
    "```\n",
    "\n",
    "</div>"
   ]
  },
  {
   "cell_type": "markdown",
   "metadata": {},
   "source": [
    "<div class=\"alert alert-block alert-warning\">\n",
    "\n",
    "<b>Task:</b> <br>\n",
    "* Recreate the previous image with a mosaic subplot.    \n",
    "</div>"
   ]
  },
  {
   "cell_type": "code",
   "execution_count": null,
   "metadata": {},
   "outputs": [],
   "source": [
    "# TODO: create figure with 3 subplots with the subplot_mosaic function:\n",
    "#       original image, filtered image, thresholded image."
   ]
  },
  {
   "cell_type": "markdown",
   "metadata": {},
   "source": [
    "\n",
    "<div class=\"alert alert-block alert-info\">\n",
    "    \n",
    "<b>Theory</b>\n",
    "\n",
    "One can save a <code> matplotlib </code> figure to disk with <code>matplotlibs</code>'s <code>savefig</code>:\n",
    "    \n",
    "\n",
    "```Python\n",
    "from skimage import data\n",
    "import matplotlib.pyplot as plt\n",
    "    \n",
    "image = data.cat()[:, :, 0] # only select red (first) channel of RGB image\n",
    "\n",
    "plt.figure()    \n",
    "plt.imshow(image)\n",
    "plt.show()\n",
    "plt.savefig('my_figure.pdf') # you can also chose other file formats, e.g. .tif or .png\n",
    "```\n",
    "\n",
    "</div>"
   ]
  },
  {
   "cell_type": "markdown",
   "metadata": {},
   "source": [
    "<div class=\"alert alert-block alert-warning\">\n",
    "\n",
    "<b>Task:</b> <br>\n",
    "* Save the figure to the disk using <code>matplotlib</code>'s <code>savefig()</code>   \n",
    "</div>\n"
   ]
  },
  {
   "cell_type": "code",
   "execution_count": 1,
   "metadata": {},
   "outputs": [],
   "source": [
    "# TODO: save figure to disk"
   ]
  },
  {
   "cell_type": "markdown",
   "metadata": {},
   "source": [
    "\n",
    "<div class=\"alert alert-block alert-info\">\n",
    "    \n",
    "<b>Theory</b>\n",
    "\n",
    "One can save a numpy array to disk with <code>skimage</code>'s <code>imsave</code>:\n",
    "    \n",
    "\n",
    "```Python\n",
    "import itk\n",
    "from skimage import data\n",
    "from skimage.io import imsave\n",
    "\n",
    "image = data.cat()[:, :, 0] # only select red (first) channel of RGB image\n",
    "mean_filtered = itk.mean_image_filter(image, radius=3)\n",
    "imsave('my_filtered_image.tif', mean_filtered)\n",
    "```\n",
    "\n",
    "</div>"
   ]
  },
  {
   "cell_type": "markdown",
   "metadata": {},
   "source": [
    "<div class=\"alert alert-block alert-warning\">\n",
    "\n",
    "<b>Task:</b> <br>\n",
    "* Save the thresholded figure to disk using <code>imsave</code> from <code>skimage.io</code>.    \n",
    "</div>"
   ]
  },
  {
   "cell_type": "code",
   "execution_count": null,
   "metadata": {},
   "outputs": [],
   "source": []
  }
 ],
 "metadata": {
  "kernelspec": {
   "display_name": "Python 3 (ipykernel)",
   "language": "python",
   "name": "python3"
  },
  "language_info": {
   "codemirror_mode": {
    "name": "ipython",
    "version": 3
   },
   "file_extension": ".py",
   "mimetype": "text/x-python",
   "name": "python",
   "nbconvert_exporter": "python",
   "pygments_lexer": "ipython3",
   "version": "3.7.13"
  }
 },
 "nbformat": 4,
 "nbformat_minor": 1
}
