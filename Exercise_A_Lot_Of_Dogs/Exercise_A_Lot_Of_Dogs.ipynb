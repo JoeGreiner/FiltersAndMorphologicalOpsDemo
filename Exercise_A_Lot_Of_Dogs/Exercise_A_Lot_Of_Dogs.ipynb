{
 "cells": [
  {
   "cell_type": "markdown",
   "metadata": {
    "collapsed": true
   },
   "source": [
    "# A <u>lot</u> of dogs!\n",
    "##### or: Paths, Glob, Matplotlib, MultiPage Figures"
   ]
  },
  {
   "cell_type": "markdown",
   "metadata": {},
   "source": [
    "<div class=\"alert alert-block alert-success\">\n",
    "\n",
    "<b>Outline: </b>\n",
    "* The module <code>glob</code> allows for the 'smart' selection of files, similar to search function in the explorer.\n",
    "    \n",
    "* In combination with loops, e.g. a <code>for</code> loop, <code>glob</code> can be a starter for automated image processing tasks.\n",
    "    \n",
    "* <code>Matplotlib</code> is powerful tool for data visualization.\n",
    "    \n",
    "* <code>Matplotlib</code> supports the creation of PDF files with many figures in it, useful to organize figures and analysis results.\n",
    "    \n",
    "</div> "
   ]
  },
  {
   "cell_type": "markdown",
   "metadata": {},
   "source": [
    "## For Loops\n",
    "\n",
    "<div class=\"alert alert-block alert-info\">\n",
    "    \n",
    "<b>Theory:</b> \n",
    "    \n",
    "<code>for</code> loops are a essential way to automate jobs. See the following code examples below. \n",
    "    \n",
    "    \n",
    "</div>"
   ]
  },
  {
   "cell_type": "code",
   "execution_count": null,
   "metadata": {},
   "outputs": [],
   "source": [
    "things = ['bob', 'hans', 'alisa']\n",
    "for thing in things:\n",
    "    print(f'current loop selection: {thing}')"
   ]
  },
  {
   "cell_type": "code",
   "execution_count": null,
   "metadata": {},
   "outputs": [],
   "source": [
    "numbers = [1,5,8]\n",
    "\n",
    "my_sum = 0\n",
    "for number in numbers:\n",
    "    my_sum = my_sum + number\n",
    "    print(f'current number: {number}, current sum: {my_sum}')"
   ]
  },
  {
   "cell_type": "code",
   "execution_count": null,
   "metadata": {},
   "outputs": [],
   "source": [
    "from tqdm import tqdm  # tqdm can be used to create progressbars in for loops\n",
    "from time import sleep # sleeps/pauses the program\n",
    "\n",
    "for number in tqdm(numbers):\n",
    "    sleep(1.34)"
   ]
  },
  {
   "cell_type": "markdown",
   "metadata": {},
   "source": [
    "## Glob\n",
    "\n",
    "<div class=\"alert alert-block alert-info\">\n",
    "    \n",
    "<b>Theory:</b> \n",
    "    \n",
    "<code>glob</code> allows you to 'filter'/search for filenames that fullfil certain criteria. Here, '*' means wildcard, e.g. any sequence of characters. For example:\n",
    "    \n",
    "* Example - all files:  123.tif, 1_bla.pdf, 1.jpg, 234.tif, bla.pdf, test.jpg\n",
    "* <code>'1*'</code> would select all files, that start with a 1.\n",
    "    * Selected: 123.tif, 1_bla.pdf, 1.jpg\n",
    "    * Not selected: 234.tif, bla.pdf, test.jpg\n",
    "* <code>'1*jpg'</code> would select all files, that start with 1 and end with jpg.\n",
    "    * Selected: 1.jpg\n",
    "    * Not selected: 123.tif, 1_bla.pdf, , 234.tif, bla.pdf, test.jpg\n",
    "* <code>'*f*'</code> would select all files that have a 'f' somewhere\n",
    "    * Selected: 123.tif, 1_bla.pdf, 234.tif\n",
    "    * Not selected: 1.jpg, bla.pdf, test.jpg   \n",
    "    \n",
    "    \n",
    "</div>"
   ]
  },
  {
   "cell_type": "code",
   "execution_count": null,
   "metadata": {},
   "outputs": [],
   "source": [
    "import glob\n",
    "\n",
    "path_to_everything_in_folder = glob.glob('data/*')\n",
    "print(path_to_everything_in_folder)"
   ]
  },
  {
   "cell_type": "markdown",
   "metadata": {},
   "source": [
    "<div class=\"alert alert-block alert-warning\">\n",
    "<b>Task:</b> <br></br>\n",
    "    \n",
    "* In the for loop, use <code>skimage.io</code> <code>imread(path)</code> to read a image with the path <code>path_to_single_file</code>.\n",
    "* Create a <code>matplotlib</code> figure with the image you just loaded. Use <code>figure()</code>, <code>imshow()</code> and <code>show()</code>.\n",
    "* Give the figure the title of the current filepath using the <code>title()</code> function.\n",
    "\n",
    "</div>"
   ]
  },
  {
   "cell_type": "code",
   "execution_count": null,
   "metadata": {
    "scrolled": false
   },
   "outputs": [],
   "source": [
    "from skimage.io import imread\n",
    "import matplotlib.pyplot as plt\n",
    "\n",
    "for path_to_single_file in path_to_everything_in_folder:\n",
    "    print(f'current path: {path_to_single_file}')\n",
    "    plt.figure()\n",
    "    \n",
    "    image = # TODO: read path_to_single_file with skimage's imread\n",
    "    # TODO: call matplotlibs imshow on image\n",
    "    # TODO: add path_to_single_file as a title using matplotlibs title function"
   ]
  },
  {
   "cell_type": "markdown",
   "metadata": {},
   "source": [
    "<div class=\"alert alert-block alert-warning\">\n",
    "<b>Task:</b> <br></br>\n",
    "    \n",
    "* Somehow, a cat sneaked in into the dog collection. Modify the glob statement below that it only plots all dogs.\n",
    "* Note: Some dog images end with <code>.jpeg</code>, some with <code>.jpg</code>.\n",
    "\n",
    "</div>"
   ]
  },
  {
   "cell_type": "code",
   "execution_count": null,
   "metadata": {},
   "outputs": [],
   "source": [
    "# just as a reminder, these are the filenames:\n",
    "print(glob.glob('data/*'))"
   ]
  },
  {
   "cell_type": "code",
   "execution_count": null,
   "metadata": {},
   "outputs": [],
   "source": [
    "path_to_all_dogs = glob.glob('data/*') # TODO: modify the glob statement to only find dogs!\n",
    "print(path_to_all_dogs)"
   ]
  },
  {
   "cell_type": "code",
   "execution_count": null,
   "metadata": {
    "scrolled": false
   },
   "outputs": [],
   "source": [
    "# now, we can plot only the dogs:\n",
    "for path_to_single_dog in path_to_all_dogs:\n",
    "    image = imread(path_to_single_dog)\n",
    "\n",
    "    plt.figure()\n",
    "    plt.imshow(image)\n",
    "    plt.title(path_to_single_dog)\n",
    "    plt.show()"
   ]
  },
  {
   "cell_type": "markdown",
   "metadata": {},
   "source": [
    "## Matplotlibs PDF Pages Backend\n",
    "\n",
    "<div class=\"alert alert-block alert-info\">\n",
    "    \n",
    "<b>Theory:</b> \n",
    "    \n",
    "<code>Matplotlibs</code> allows for the creation of MultiPage PDFs. They are helpful to organize many figures. \n",
    "\n",
    "```Python\n",
    "\n",
    "    from matplotlib.backends.backend_pdf import PdfPages\n",
    "    pdf_filename = 'my_wonderful_images.pdf' # filepath of the PDF\n",
    "    pdf_file = PdfPages(pdf_filename) # create PDFPages object\n",
    "    \n",
    "    for image in images:\n",
    "        plt.figure()\n",
    "        plt.imshow(image)\n",
    "        plt.show()\n",
    "        pdf_file.savefig() # save the latest image in the PDF\n",
    "    \n",
    "    pdf_file.close() # close the PDF\n",
    "\n",
    "```\n",
    "    \n",
    "    \n",
    "</div>"
   ]
  },
  {
   "cell_type": "markdown",
   "metadata": {},
   "source": [
    "<div class=\"alert alert-block alert-warning\">\n",
    "<b>Task:</b> <br></br>\n",
    "    \n",
    "* Save all dog figures in a single <code>.pdf</code> file using the code given above.\n",
    "\n",
    "</div>"
   ]
  },
  {
   "cell_type": "code",
   "execution_count": null,
   "metadata": {},
   "outputs": [],
   "source": [
    "%matplotlib notebook\n",
    "\n",
    "# TODO: import matplotlibs PDFPages from backend_pdf\n",
    "# TODO: create PdfPages object\n",
    "\n",
    "for path_to_single_dog in path_to_all_dogs:\n",
    "    image = imread(path_to_single_dog)\n",
    "\n",
    "    plt.figure()\n",
    "    plt.imshow(image)\n",
    "    plt.title(path_to_single_dog)\n",
    "    plt.show()\n",
    "    \n",
    "    # TODO: save the latest figure to the PDF\n",
    "    \n",
    "# TODO: close pdfpages object"
   ]
  }
 ],
 "metadata": {
  "kernelspec": {
   "display_name": "Python 3 (ipykernel)",
   "language": "python",
   "name": "python3"
  },
  "language_info": {
   "codemirror_mode": {
    "name": "ipython",
    "version": 3
   },
   "file_extension": ".py",
   "mimetype": "text/x-python",
   "name": "python",
   "nbconvert_exporter": "python",
   "pygments_lexer": "ipython3",
   "version": "3.7.13"
  }
 },
 "nbformat": 4,
 "nbformat_minor": 1
}