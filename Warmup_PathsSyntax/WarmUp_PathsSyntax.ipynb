{
 "cells": [
  {
   "cell_type": "markdown",
   "metadata": {
    "collapsed": true
   },
   "source": [
    "<div class=\"alert alert-block alert-success\">\n",
    "\n",
    "<b>Outline: </b>\n",
    "<ul>\n",
    "    <li>The tiniest errors can break a program.</li>\n",
    "    <li>Intendation is important in Python, it controls execution flow.</li>\n",
    "    <li>Reading error messages is a skill that get's easier with experience.</li>\n",
    "    <li>In doubt, use Google/StackOverflow/CheatSheets/Books.</li>\n",
    "</ul>\n",
    "</div> "
   ]
  },
  {
   "cell_type": "markdown",
   "metadata": {
    "pycharm": {
     "name": "#%%\n"
    }
   },
   "source": [
    "<div class=\"alert alert-block alert-warning\">\n",
    "<b>Task:</b> <br>\n",
    "\n",
    "Fix the following code statements to execute correctly.\n",
    "\n",
    "</div>"
   ]
  },
  {
   "cell_type": "code",
   "execution_count": 2,
   "metadata": {},
   "outputs": [
    {
     "ename": "SyntaxError",
     "evalue": "invalid syntax (1976332440.py, line 2)",
     "output_type": "error",
     "traceback": [
      "\u001B[0;36m  File \u001B[0;32m\"/var/folders/h3/jm_xwnpd69s0zqr9bhz223680000gp/T/ipykernel_28243/1976332440.py\"\u001B[0;36m, line \u001B[0;32m2\u001B[0m\n\u001B[0;31m    if user_input_number = 5:\u001B[0m\n\u001B[0m                         ^\u001B[0m\n\u001B[0;31mSyntaxError\u001B[0m\u001B[0;31m:\u001B[0m invalid syntax\n"
     ]
    }
   ],
   "source": [
    "# contains 1 error\n",
    "\n",
    "user_input_number = input()\n",
    "if user_input_number = 5:\n",
    "    print('5 was entered.')\n",
    "else\n",
    "    print('5 was not entered.')"
   ]
  },
  {
   "cell_type": "code",
   "execution_count": 12,
   "metadata": {},
   "outputs": [
    {
     "ename": "SyntaxError",
     "evalue": "EOL while scanning string literal (3899671385.py, line 3)",
     "output_type": "error",
     "traceback": [
      "\u001B[0;36m  File \u001B[0;32m\"/var/folders/h3/jm_xwnpd69s0zqr9bhz223680000gp/T/ipykernel_28243/3899671385.py\"\u001B[0;36m, line \u001B[0;32m3\u001B[0m\n\u001B[0;31m    names = ['Alice', 'Bob', 'Hans\"]\u001B[0m\n\u001B[0m                                    ^\u001B[0m\n\u001B[0;31mSyntaxError\u001B[0m\u001B[0;31m:\u001B[0m EOL while scanning string literal\n"
     ]
    }
   ],
   "source": [
    "# contains two errors\n",
    "\n",
    "names = ['Alice', 'Bob', 'Hans\"]\n",
    "print(names[3]) # this should show 'Hans' - what's wrong?"
   ]
  },
  {
   "cell_type": "code",
   "execution_count": 10,
   "metadata": {},
   "outputs": [
    {
     "ename": "IndentationError",
     "evalue": "expected an indented block (3467872794.py, line 3)",
     "output_type": "error",
     "traceback": [
      "\u001B[0;36m  File \u001B[0;32m\"/var/folders/h3/jm_xwnpd69s0zqr9bhz223680000gp/T/ipykernel_28243/3467872794.py\"\u001B[0;36m, line \u001B[0;32m3\u001B[0m\n\u001B[0;31m    ticket_price = 0\u001B[0m\n\u001B[0m               ^\u001B[0m\n\u001B[0;31mIndentationError\u001B[0m\u001B[0;31m:\u001B[0m expected an indented block\n"
     ]
    }
   ],
   "source": [
    "age = int(input())\n",
    "if age < 4:     # do not forget the colon (:)!\n",
    "ticket_price = 0\n",
    "elif age < 18:  # you can chain multiple elif\n",
    "  ticket_price = 10\n",
    "else:\n",
    "    ticket_price = 15\n",
    "print(ticket_price)"
   ]
  },
  {
   "cell_type": "code",
   "execution_count": 4,
   "metadata": {},
   "outputs": [
    {
     "ename": "TypeError",
     "evalue": "'int' object is not iterable",
     "output_type": "error",
     "traceback": [
      "\u001B[0;31m---------------------------------------------------------------------------\u001B[0m",
      "\u001B[0;31mTypeError\u001B[0m                                 Traceback (most recent call last)",
      "\u001B[0;32m/var/folders/h3/jm_xwnpd69s0zqr9bhz223680000gp/T/ipykernel_28243/3055880275.py\u001B[0m in \u001B[0;36m<module>\u001B[0;34m\u001B[0m\n\u001B[1;32m      1\u001B[0m \u001B[0mmy_list\u001B[0m \u001B[0;34m=\u001B[0m \u001B[0;34m[\u001B[0m\u001B[0;34m]\u001B[0m\u001B[0;34m\u001B[0m\u001B[0;34m\u001B[0m\u001B[0m\n\u001B[0;32m----> 2\u001B[0;31m \u001B[0;32mfor\u001B[0m \u001B[0mnumber\u001B[0m \u001B[0;32min\u001B[0m \u001B[0;36m3\u001B[0m\u001B[0;34m:\u001B[0m \u001B[0;31m# this for loop is meant to execute three times\u001B[0m\u001B[0;34m\u001B[0m\u001B[0;34m\u001B[0m\u001B[0m\n\u001B[0m\u001B[1;32m      3\u001B[0m     \u001B[0mmy_list\u001B[0m\u001B[0;34m.\u001B[0m\u001B[0mappend\u001B[0m\u001B[0;34m(\u001B[0m\u001B[0mnumber\u001B[0m\u001B[0;34m)\u001B[0m\u001B[0;34m\u001B[0m\u001B[0;34m\u001B[0m\u001B[0m\n\u001B[1;32m      4\u001B[0m \u001B[0mprint\u001B[0m\u001B[0;34m(\u001B[0m\u001B[0mmy_list\u001B[0m\u001B[0;34m)\u001B[0m     \u001B[0;31m# should print [0,1,2]\u001B[0m\u001B[0;34m\u001B[0m\u001B[0;34m\u001B[0m\u001B[0m\n",
      "\u001B[0;31mTypeError\u001B[0m: 'int' object is not iterable"
     ]
    }
   ],
   "source": [
    "my_list = []\n",
    "for number in 3: # this for loop is meant to execute three times\n",
    "    my_list.append(number)\n",
    "print(my_list)     # should print [0,1,2]"
   ]
  },
  {
   "cell_type": "code",
   "execution_count": 5,
   "metadata": {},
   "outputs": [
    {
     "ename": "SyntaxError",
     "evalue": "invalid syntax (1288011755.py, line 1)",
     "output_type": "error",
     "traceback": [
      "\u001B[0;36m  File \u001B[0;32m\"/var/folders/h3/jm_xwnpd69s0zqr9bhz223680000gp/T/ipykernel_28243/1288011755.py\"\u001B[0;36m, line \u001B[0;32m1\u001B[0m\n\u001B[0;31m    def greet(name)\u001B[0m\n\u001B[0m                   ^\u001B[0m\n\u001B[0;31mSyntaxError\u001B[0m\u001B[0;31m:\u001B[0m invalid syntax\n"
     ]
    }
   ],
   "source": [
    "def greet(name)\n",
    "    print(f'Hi {name}!')\n",
    "greet('Alice')        # prints: Hi Alice!\n",
    "greet(name='Hans')    # prints: Hi Hans!"
   ]
  },
  {
   "cell_type": "code",
   "execution_count": null,
   "metadata": {},
   "outputs": [],
   "source": []
  }
 ],
 "metadata": {
  "kernelspec": {
   "display_name": "Python 3 (ipykernel)",
   "language": "python",
   "name": "python3"
  },
  "language_info": {
   "codemirror_mode": {
    "name": "ipython",
    "version": 3
   },
   "file_extension": ".py",
   "mimetype": "text/x-python",
   "name": "python",
   "nbconvert_exporter": "python",
   "pygments_lexer": "ipython3",
   "version": "3.7.13"
  }
 },
 "nbformat": 4,
 "nbformat_minor": 1
}