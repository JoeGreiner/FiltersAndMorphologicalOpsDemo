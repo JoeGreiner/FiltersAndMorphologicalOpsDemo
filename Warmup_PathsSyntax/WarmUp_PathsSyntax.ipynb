{
 "cells": [
  {
   "cell_type": "markdown",
   "metadata": {
    "collapsed": true
   },
   "source": [
    "<div class=\"alert alert-block alert-success\">\n",
    "\n",
    "<b>Outline: </b>\n",
    "<ul>\n",
    "    <li>The tiniest error can break a program.</li>\n",
    "    <li>Intendation is important in Python, it controls execution flow.</li>\n",
    "    <li>Reading error messages is a skill that gets easier with experience.</li>\n",
    "    <li><b>Use Google/StackOverflow/CheatSheets/Books</b>.</li>\n",
    "</ul>\n",
    "</div> "
   ]
  },
  {
   "cell_type": "markdown",
   "metadata": {
    "pycharm": {
     "name": "#%%\n"
    }
   },
   "source": [
    "<div class=\"alert alert-block alert-warning\">\n",
    "<b>Task:</b> <br>\n",
    "\n",
    "Fix the following code statements to execute correctly, as indicated in the comments.\n",
    "\n",
    "</div>"
   ]
  },
  {
   "cell_type": "code",
   "execution_count": null,
   "metadata": {},
   "outputs": [],
   "source": [
    "# contains one error\n",
    "\n",
    "user_input_number = input()\n",
    "if user_input_number = 5:\n",
    "    print('5 was entered.')\n",
    "else\n",
    "    print('5 was not entered.')"
   ]
  },
  {
   "cell_type": "code",
   "execution_count": null,
   "metadata": {},
   "outputs": [],
   "source": [
    "# contains two errors\n",
    "\n",
    "names = ['Alice', 'Bob', 'Hans\"]\n",
    "print(names[3]) # this should show 'Hans' - what's wrong?"
   ]
  },
  {
   "cell_type": "code",
   "execution_count": null,
   "metadata": {},
   "outputs": [],
   "source": [
    "# contains two errors (one may not break execution)\n",
    "\n",
    "age = int(input())\n",
    "if age < 4:     # do not forget the colon (:)!\n",
    "ticket_price = 0\n",
    "elif age < 18:  # you can chain multiple elif\n",
    "  ticket_price = 10\n",
    "else:\n",
    "    ticket_price = 15\n",
    "print(ticket_price)"
   ]
  },
  {
   "cell_type": "code",
   "execution_count": null,
   "metadata": {},
   "outputs": [],
   "source": [
    "# contains one error\n",
    "\n",
    "my_list = []\n",
    "for number in 3: # this for loop is meant to execute three times\n",
    "    my_list.append(number)\n",
    "print(my_list)     # should print [0,1,2]"
   ]
  },
  {
   "cell_type": "code",
   "execution_count": null,
   "metadata": {},
   "outputs": [],
   "source": [
    "# contains two errors\n",
    "\n",
    "def greet(name)\n",
    "    print(f'Hi {name}!')\n",
    "greet(\"Alice')        # prints: Hi Alice!\n",
    "greet(name='Hans')    # prints: Hi Hans!"
   ]
  },
  {
   "cell_type": "code",
   "execution_count": null,
   "metadata": {},
   "outputs": [],
   "source": [
    "# contains one error\n",
    "\n",
    "from skimage.io import imread\n",
    "\n",
    "image = imread('data/cat.tif')\n",
    "\n",
    "plt.figure()\n",
    "plt.imshow(image)\n",
    "plt.show()"
   ]
  },
  {
   "cell_type": "code",
   "execution_count": null,
   "metadata": {},
   "outputs": [],
   "source": [
    "# contains one error\n",
    "\n",
    "\n",
    "image = imread('data\\cat.tif')\n",
    "\n",
    "plt.figure()\n",
    "plt.imshow(image)\n",
    "plt.show()"
   ]
  },
  {
   "cell_type": "code",
   "execution_count": null,
   "metadata": {},
   "outputs": [],
   "source": []
  }
 ],
 "metadata": {
  "kernelspec": {
   "display_name": "Python 3 (ipykernel)",
   "language": "python",
   "name": "python3"
  },
  "language_info": {
   "codemirror_mode": {
    "name": "ipython",
    "version": 3
   },
   "file_extension": ".py",
   "mimetype": "text/x-python",
   "name": "python",
   "nbconvert_exporter": "python",
   "pygments_lexer": "ipython3",
   "version": "3.7.13"
  }
 },
 "nbformat": 4,
 "nbformat_minor": 1
}