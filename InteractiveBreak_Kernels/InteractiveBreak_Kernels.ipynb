{
 "cells": [
  {
   "cell_type": "markdown",
   "metadata": {
    "slideshow": {
     "slide_type": "slide"
    }
   },
   "source": [
    "# Interactive Break: Image Filtering with Kernels"
   ]
  },
  {
   "cell_type": "markdown",
   "metadata": {
    "slideshow": {
     "slide_type": "slide"
    }
   },
   "source": [
    "<div class=\"alert alert-block alert-success\">\n",
    "\n",
    "<b>Outline: </b>\n",
    "<ul>\n",
    "    <li>Image processing with kernels is a powerful method extract image features.</li>\n",
    "    <li>Even with a small 3x3 kernel, a variety of operations are possible, e.g. edge filtering, ridge filtering, smoothing, sharpening. </li>\n",
    "</ul>\n",
    "</div> "
   ]
  },
  {
   "cell_type": "markdown",
   "metadata": {},
   "source": [
    "\n",
    "<div class=\"alert alert-block alert-info\">\n",
    "    \n",
    "<b>Theory</b>\n",
    "\n",
    "![Moving Kernel](images/moving_kernel.gif \"Moving Kernel\")\n",
    "![filters](images/filters.png \"filters\")\n",
    "\n",
    "</div>"
   ]
  },
  {
   "cell_type": "markdown",
   "metadata": {
    "slideshow": {
     "slide_type": "slide"
    }
   },
   "source": [
    "<div class=\"alert alert-block alert-warning\">\n",
    "<b>Task:</b> <br>\n",
    "    \n",
    "* Explore the following widget.\n",
    "* How does the math work? Calculate pixels by hand and double-check with the widget.\n",
    "* How could one handle pixels at the border? Come up with 1-2 solutions.\n",
    "* How would you implement a diagonal edge filter?\n",
    "\n",
    "</div>"
   ]
  },
  {
   "cell_type": "code",
   "execution_count": null,
   "metadata": {
    "pycharm": {
     "is_executing": true
    },
    "slideshow": {
     "slide_type": "slide"
    }
   },
   "outputs": [],
   "source": [
    "%matplotlib notebook\n",
    "from kernelWidget import KernelWidget\n",
    "myWidget = KernelWidget()"
   ]
  },
  {
   "cell_type": "markdown",
   "metadata": {
    "slideshow": {
     "slide_type": "slide"
    }
   },
   "source": [
    "<div class=\"alert alert-block alert-warning\">\n",
    "<b>Task:</b> <br></br>\n",
    "    \n",
    "* Explore the following widget. Make extensive use of the zoom button (see picture below; click on it and then draw an rectangle in the image where you want to zoom in) to investigate details. You can reset the zoom by clicking the 'home' button.\n",
    "\n",
    "\n",
    "![zoom_arrow](images/zoom_arrow.png \"zoom_arrow\")\n",
    "\n",
    "\n",
    "\n",
    "* What could be possible use-cases for biological image analysis?\n",
    "\n",
    "\n",
    "</div>"
   ]
  },
  {
   "cell_type": "code",
   "execution_count": null,
   "metadata": {
    "scrolled": false,
    "slideshow": {
     "slide_type": "slide"
    }
   },
   "outputs": [],
   "source": [
    "myWidget = KernelWidget(small_example=False)"
   ]
  },
  {
   "cell_type": "markdown",
   "metadata": {
    "slideshow": {
     "slide_type": "slide"
    }
   },
   "source": [
    "\n",
    "<div class=\"alert alert-block alert-info\">\n",
    "    \n",
    "<b>How to run convolutions in python?</b>\n",
    "\n",
    "\n",
    "There are multiple packages that provide that function, for example, <code>scipy</code>.\n",
    "\n",
    "https://docs.scipy.org/doc/scipy/reference/generated/scipy.ndimage.convolve.html\n",
    "</div>"
   ]
  },
  {
   "cell_type": "code",
   "execution_count": null,
   "metadata": {
    "slideshow": {
     "slide_type": "slide"
    }
   },
   "outputs": [],
   "source": [
    "from scipy import ndimage\n",
    "import numpy as np\n",
    "import imageio\n",
    "\n",
    "image = imageio.imread('images/cat.tif') # Cat is called chelsea! by Stefan van der Walt, cc0 licence, found at skimage doc\n",
    "kernel = np.ones(shape=(3,3)) # create 3x3 kernel\n",
    "convolved_image = ndimage.convolve(image, kernel) # convolve\n",
    "\n",
    "print(f'image shape: {image.shape}')\n",
    "print(f'kernel shape: {kernel.shape}')\n",
    "print(f'result shape: {convolved_image.shape}')"
   ]
  },
  {
   "cell_type": "markdown",
   "metadata": {},
   "source": [
    "<div class=\"alert alert-block alert-info\">\n",
    "    \n",
    "<b>Further Reading/ References: </b>\n",
    "\n",
    "https://bioimagebook.github.io/chapters/2-processing/4-filters/filters.html\n",
    "    \n",
    "https://setosa.io/ev/image-kernels/\n",
    "    \n",
    "https://docs.gimp.org/en/filters.html\n",
    "</div>"
   ]
  }
 ],
 "metadata": {
  "kernelspec": {
   "display_name": "Python 3 (ipykernel)",
   "language": "python",
   "name": "python3"
  },
  "language_info": {
   "codemirror_mode": {
    "name": "ipython",
    "version": 3
   },
   "file_extension": ".py",
   "mimetype": "text/x-python",
   "name": "python",
   "nbconvert_exporter": "python",
   "pygments_lexer": "ipython3",
   "version": "3.7.12"
  }
 },
 "nbformat": 4,
 "nbformat_minor": 1
}